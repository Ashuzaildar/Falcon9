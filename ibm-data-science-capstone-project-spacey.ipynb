{
 "cells": [
  {
   "cell_type": "markdown",
   "id": "720ffe74",
   "metadata": {
    "papermill": {
     "duration": 0.067246,
     "end_time": "2021-10-19T16:35:38.657092",
     "exception": false,
     "start_time": "2021-10-19T16:35:38.589846",
     "status": "completed"
    },
    "tags": []
   },
   "source": [
    "# Overview"
   ]
  },
  {
   "cell_type": "markdown",
   "id": "8e128661",
   "metadata": {
    "papermill": {
     "duration": 0.062117,
     "end_time": "2021-10-19T16:35:38.786212",
     "exception": false,
     "start_time": "2021-10-19T16:35:38.724095",
     "status": "completed"
    },
    "tags": []
   },
   "source": [
    "This project is part of the [IBM Data Science Certification program](https://www.coursera.org/learn/applied-data-science-capstone/home/welcome)\n",
    "\n",
    "The commercial space age is here; several companies such as Virgin Galactic, Blue Origin, and SpaceX are making space travel affordable for everyone. Among all of them, SpaceX perhaps stands out as the most successful. One reason behind SpaceX's success is that the rocket launches are relatively inexpensive thanks to the reusability of the first stage--which is the most expensive part of a rocket launcher that carries most of the work. Therefore, if we can determine if the first stage will land, we can determine the cost of a launch. In this project, our job will be to determine the price of each launch which depends on whether the first stage would land successfully to be reused. Using machine learning models and public data on Falcon 9, we will predict if SpaceX will reuse the first stage."
   ]
  },
  {
   "cell_type": "markdown",
   "id": "1c2f732b",
   "metadata": {
    "papermill": {
     "duration": 0.061563,
     "end_time": "2021-10-19T16:35:38.910345",
     "exception": false,
     "start_time": "2021-10-19T16:35:38.848782",
     "status": "completed"
    },
    "tags": []
   },
   "source": [
    "### Table of Contents\n",
    "* [Data Wrangling](#data-wrangling)\n",
    "   * [Import Data](#data-import)\n",
    "   * [Dealing with missing values](#missing-data)\n",
    "* [EDA](#eda)\n",
    "   * [Extract Target Variable](#eda-target)\n",
    "   * [Features Selection](#fs)\n",
    "       * [Discard Obsolete Variables](#fs-drop-columns)\n",
    "       * [Categorical Variables](#fs-categorical)\n",
    "       * [Boolean Variables](#fs-boolean)\n",
    "       * [Numeric Variables](#fs-numeric)\n",
    "   * [Build Features Set](#fs-build-dataset)\n",
    "* [Machine Learning Predictions](#ml-predictions)\n",
    "   * [Decision Tree](#ml-decision-tree)\n",
    "   * [Results](#ml-results)\n",
    "    "
   ]
  },
  {
   "cell_type": "markdown",
   "id": "90b0ad62",
   "metadata": {
    "papermill": {
     "duration": 0.066143,
     "end_time": "2021-10-19T16:35:39.039921",
     "exception": false,
     "start_time": "2021-10-19T16:35:38.973778",
     "status": "completed"
    },
    "tags": []
   },
   "source": [
    "# Data Wrangling <a class=\"anchor\"  id=\"data-wrangling\"></a>"
   ]
  },
  {
   "cell_type": "code",
   "execution_count": 1,
   "id": "4907b4d6",
   "metadata": {
    "execution": {
     "iopub.execute_input": "2021-10-19T16:35:39.186693Z",
     "iopub.status.busy": "2021-10-19T16:35:39.185711Z",
     "iopub.status.idle": "2021-10-19T16:35:56.273665Z",
     "shell.execute_reply": "2021-10-19T16:35:56.272833Z",
     "shell.execute_reply.started": "2021-10-19T15:45:30.144585Z"
    },
    "papermill": {
     "duration": 17.163728,
     "end_time": "2021-10-19T16:35:56.273842",
     "exception": false,
     "start_time": "2021-10-19T16:35:39.110114",
     "status": "completed"
    },
    "tags": []
   },
   "outputs": [
    {
     "name": "stdout",
     "output_type": "stream",
     "text": [
      "Collecting pickle5\r\n",
      "  Downloading pickle5-0.0.11.tar.gz (132 kB)\r\n",
      "\u001b[K     |████████████████████████████████| 132 kB 295 kB/s \r\n",
      "\u001b[?25hBuilding wheels for collected packages: pickle5\r\n",
      "  Building wheel for pickle5 (setup.py) ... \u001b[?25l-\b \b\\\b \b|\b \b/\b \bdone\r\n",
      "\u001b[?25h  Created wheel for pickle5: filename=pickle5-0.0.11-cp37-cp37m-linux_x86_64.whl size=245791 sha256=95cfe9a734fb4c49b6d473a859fb8eddbe884d3f9be42b2f7f2fa6984338320d\r\n",
      "  Stored in directory: /root/.cache/pip/wheels/7e/6a/00/67136a90d6aca437d806d1d3cedf98106e840c97a3e5188198\r\n",
      "Successfully built pickle5\r\n",
      "Installing collected packages: pickle5\r\n",
      "Successfully installed pickle5-0.0.11\r\n",
      "\u001b[33mWARNING: Running pip as the 'root' user can result in broken permissions and conflicting behaviour with the system package manager. It is recommended to use a virtual environment instead: https://pip.pypa.io/warnings/venv\u001b[0m\r\n"
     ]
    }
   ],
   "source": [
    "!python -m pip install pickle5"
   ]
  },
  {
   "cell_type": "code",
   "execution_count": 2,
   "id": "bf30c911",
   "metadata": {
    "execution": {
     "iopub.execute_input": "2021-10-19T16:35:56.417284Z",
     "iopub.status.busy": "2021-10-19T16:35:56.416535Z",
     "iopub.status.idle": "2021-10-19T16:35:57.392077Z",
     "shell.execute_reply": "2021-10-19T16:35:57.392682Z",
     "shell.execute_reply.started": "2021-10-19T15:45:36.704249Z"
    },
    "papermill": {
     "duration": 1.050357,
     "end_time": "2021-10-19T16:35:57.392875",
     "exception": false,
     "start_time": "2021-10-19T16:35:56.342518",
     "status": "completed"
    },
    "tags": []
   },
   "outputs": [],
   "source": [
    "import numpy as np\n",
    "import pandas as pd\n",
    "import matplotlib.pyplot as plt\n",
    "import seaborn as sns\n",
    "%matplotlib inline\n",
    "sns.set()"
   ]
  },
  {
   "cell_type": "markdown",
   "id": "ae922f63",
   "metadata": {
    "papermill": {
     "duration": 0.066897,
     "end_time": "2021-10-19T16:35:57.527649",
     "exception": false,
     "start_time": "2021-10-19T16:35:57.460752",
     "status": "completed"
    },
    "tags": []
   },
   "source": [
    "## Import Data <a class=\"anchor\"  id=\"data-import\"></a>\n",
    "The piece of code used to retrieve the Falcon 9 data was taken from this [notebook]('https://cf-courses-data.s3.us.cloud-object-storage.appdomain.cloud/IBM-DS0321EN-SkillsNetwork/labs/module_1_L2/jupyter-labs-spacex-data-collection-api.ipynb') which contains an API designed for this puspose and privided with the project assignment."
   ]
  },
  {
   "cell_type": "code",
   "execution_count": 3,
   "id": "8d0a2751",
   "metadata": {
    "execution": {
     "iopub.execute_input": "2021-10-19T16:35:57.668757Z",
     "iopub.status.busy": "2021-10-19T16:35:57.668027Z",
     "iopub.status.idle": "2021-10-19T16:35:57.686035Z",
     "shell.execute_reply": "2021-10-19T16:35:57.686531Z",
     "shell.execute_reply.started": "2021-10-19T15:45:36.714423Z"
    },
    "papermill": {
     "duration": 0.091635,
     "end_time": "2021-10-19T16:35:57.686743",
     "exception": false,
     "start_time": "2021-10-19T16:35:57.595108",
     "status": "completed"
    },
    "tags": []
   },
   "outputs": [],
   "source": [
    "import pickle5 as pickle\n",
    "\n",
    "with open(\"../input/spacex-falcon9-launch-pickle/falcon9_data.pkl\", \"rb\") as fh:\n",
    "    data = pickle.load(fh)\n",
    "    falcon9_data = data\n",
    "    falcon9_data.reset_index(drop=True, inplace=True)"
   ]
  },
  {
   "cell_type": "code",
   "execution_count": 4,
   "id": "df3f40f3",
   "metadata": {
    "execution": {
     "iopub.execute_input": "2021-10-19T16:35:57.827003Z",
     "iopub.status.busy": "2021-10-19T16:35:57.826361Z",
     "iopub.status.idle": "2021-10-19T16:35:57.862361Z",
     "shell.execute_reply": "2021-10-19T16:35:57.861872Z",
     "shell.execute_reply.started": "2021-10-19T15:45:36.734491Z"
    },
    "papermill": {
     "duration": 0.108185,
     "end_time": "2021-10-19T16:35:57.862500",
     "exception": false,
     "start_time": "2021-10-19T16:35:57.754315",
     "status": "completed"
    },
    "tags": []
   },
   "outputs": [
    {
     "data": {
      "text/html": [
       "<div>\n",
       "<style scoped>\n",
       "    .dataframe tbody tr th:only-of-type {\n",
       "        vertical-align: middle;\n",
       "    }\n",
       "\n",
       "    .dataframe tbody tr th {\n",
       "        vertical-align: top;\n",
       "    }\n",
       "\n",
       "    .dataframe thead th {\n",
       "        text-align: right;\n",
       "    }\n",
       "</style>\n",
       "<table border=\"1\" class=\"dataframe\">\n",
       "  <thead>\n",
       "    <tr style=\"text-align: right;\">\n",
       "      <th></th>\n",
       "      <th>FlightNumber</th>\n",
       "      <th>Date</th>\n",
       "      <th>BoosterVersion</th>\n",
       "      <th>PayloadMass</th>\n",
       "      <th>Orbit</th>\n",
       "      <th>LaunchSite</th>\n",
       "      <th>Outcome</th>\n",
       "      <th>Flights</th>\n",
       "      <th>GridFins</th>\n",
       "      <th>Reused</th>\n",
       "      <th>Legs</th>\n",
       "      <th>LandingPad</th>\n",
       "      <th>Block</th>\n",
       "      <th>ReusedCount</th>\n",
       "      <th>Serial</th>\n",
       "      <th>Longitude</th>\n",
       "      <th>Latitude</th>\n",
       "    </tr>\n",
       "  </thead>\n",
       "  <tbody>\n",
       "    <tr>\n",
       "      <th>0</th>\n",
       "      <td>1</td>\n",
       "      <td>2010-06-04</td>\n",
       "      <td>Falcon 9</td>\n",
       "      <td>NaN</td>\n",
       "      <td>LEO</td>\n",
       "      <td>CCSFS SLC 40</td>\n",
       "      <td>None None</td>\n",
       "      <td>1.0</td>\n",
       "      <td>False</td>\n",
       "      <td>False</td>\n",
       "      <td>False</td>\n",
       "      <td>None</td>\n",
       "      <td>1.0</td>\n",
       "      <td>0.0</td>\n",
       "      <td>B0003</td>\n",
       "      <td>-80.577366</td>\n",
       "      <td>28.561857</td>\n",
       "    </tr>\n",
       "    <tr>\n",
       "      <th>1</th>\n",
       "      <td>2</td>\n",
       "      <td>2012-05-22</td>\n",
       "      <td>Falcon 9</td>\n",
       "      <td>525.0</td>\n",
       "      <td>LEO</td>\n",
       "      <td>CCSFS SLC 40</td>\n",
       "      <td>None None</td>\n",
       "      <td>1.0</td>\n",
       "      <td>False</td>\n",
       "      <td>False</td>\n",
       "      <td>False</td>\n",
       "      <td>None</td>\n",
       "      <td>1.0</td>\n",
       "      <td>0.0</td>\n",
       "      <td>B0005</td>\n",
       "      <td>-80.577366</td>\n",
       "      <td>28.561857</td>\n",
       "    </tr>\n",
       "    <tr>\n",
       "      <th>2</th>\n",
       "      <td>3</td>\n",
       "      <td>2013-03-01</td>\n",
       "      <td>Falcon 9</td>\n",
       "      <td>677.0</td>\n",
       "      <td>ISS</td>\n",
       "      <td>CCSFS SLC 40</td>\n",
       "      <td>None None</td>\n",
       "      <td>1.0</td>\n",
       "      <td>False</td>\n",
       "      <td>False</td>\n",
       "      <td>False</td>\n",
       "      <td>None</td>\n",
       "      <td>1.0</td>\n",
       "      <td>0.0</td>\n",
       "      <td>B0007</td>\n",
       "      <td>-80.577366</td>\n",
       "      <td>28.561857</td>\n",
       "    </tr>\n",
       "    <tr>\n",
       "      <th>3</th>\n",
       "      <td>4</td>\n",
       "      <td>2013-09-29</td>\n",
       "      <td>Falcon 9</td>\n",
       "      <td>500.0</td>\n",
       "      <td>PO</td>\n",
       "      <td>VAFB SLC 4E</td>\n",
       "      <td>False Ocean</td>\n",
       "      <td>1.0</td>\n",
       "      <td>False</td>\n",
       "      <td>False</td>\n",
       "      <td>False</td>\n",
       "      <td>None</td>\n",
       "      <td>1.0</td>\n",
       "      <td>0.0</td>\n",
       "      <td>B1003</td>\n",
       "      <td>-120.610829</td>\n",
       "      <td>34.632093</td>\n",
       "    </tr>\n",
       "    <tr>\n",
       "      <th>4</th>\n",
       "      <td>5</td>\n",
       "      <td>2013-12-03</td>\n",
       "      <td>Falcon 9</td>\n",
       "      <td>3170.0</td>\n",
       "      <td>GTO</td>\n",
       "      <td>CCSFS SLC 40</td>\n",
       "      <td>None None</td>\n",
       "      <td>1.0</td>\n",
       "      <td>False</td>\n",
       "      <td>False</td>\n",
       "      <td>False</td>\n",
       "      <td>None</td>\n",
       "      <td>1.0</td>\n",
       "      <td>0.0</td>\n",
       "      <td>B1004</td>\n",
       "      <td>-80.577366</td>\n",
       "      <td>28.561857</td>\n",
       "    </tr>\n",
       "    <tr>\n",
       "      <th>5</th>\n",
       "      <td>6</td>\n",
       "      <td>2014-01-06</td>\n",
       "      <td>Falcon 9</td>\n",
       "      <td>3325.0</td>\n",
       "      <td>GTO</td>\n",
       "      <td>CCSFS SLC 40</td>\n",
       "      <td>None None</td>\n",
       "      <td>1.0</td>\n",
       "      <td>False</td>\n",
       "      <td>False</td>\n",
       "      <td>False</td>\n",
       "      <td>None</td>\n",
       "      <td>1.0</td>\n",
       "      <td>0.0</td>\n",
       "      <td>B1005</td>\n",
       "      <td>-80.577366</td>\n",
       "      <td>28.561857</td>\n",
       "    </tr>\n",
       "    <tr>\n",
       "      <th>6</th>\n",
       "      <td>7</td>\n",
       "      <td>2014-04-18</td>\n",
       "      <td>Falcon 9</td>\n",
       "      <td>2296.0</td>\n",
       "      <td>ISS</td>\n",
       "      <td>CCSFS SLC 40</td>\n",
       "      <td>True Ocean</td>\n",
       "      <td>1.0</td>\n",
       "      <td>False</td>\n",
       "      <td>False</td>\n",
       "      <td>True</td>\n",
       "      <td>None</td>\n",
       "      <td>1.0</td>\n",
       "      <td>0.0</td>\n",
       "      <td>B1006</td>\n",
       "      <td>-80.577366</td>\n",
       "      <td>28.561857</td>\n",
       "    </tr>\n",
       "    <tr>\n",
       "      <th>7</th>\n",
       "      <td>8</td>\n",
       "      <td>2014-07-14</td>\n",
       "      <td>Falcon 9</td>\n",
       "      <td>1316.0</td>\n",
       "      <td>LEO</td>\n",
       "      <td>CCSFS SLC 40</td>\n",
       "      <td>True Ocean</td>\n",
       "      <td>1.0</td>\n",
       "      <td>False</td>\n",
       "      <td>False</td>\n",
       "      <td>True</td>\n",
       "      <td>None</td>\n",
       "      <td>1.0</td>\n",
       "      <td>0.0</td>\n",
       "      <td>B1007</td>\n",
       "      <td>-80.577366</td>\n",
       "      <td>28.561857</td>\n",
       "    </tr>\n",
       "    <tr>\n",
       "      <th>8</th>\n",
       "      <td>9</td>\n",
       "      <td>2014-08-05</td>\n",
       "      <td>Falcon 9</td>\n",
       "      <td>4535.0</td>\n",
       "      <td>GTO</td>\n",
       "      <td>CCSFS SLC 40</td>\n",
       "      <td>None None</td>\n",
       "      <td>1.0</td>\n",
       "      <td>False</td>\n",
       "      <td>False</td>\n",
       "      <td>False</td>\n",
       "      <td>None</td>\n",
       "      <td>1.0</td>\n",
       "      <td>0.0</td>\n",
       "      <td>B1008</td>\n",
       "      <td>-80.577366</td>\n",
       "      <td>28.561857</td>\n",
       "    </tr>\n",
       "    <tr>\n",
       "      <th>9</th>\n",
       "      <td>10</td>\n",
       "      <td>2014-09-07</td>\n",
       "      <td>Falcon 9</td>\n",
       "      <td>4428.0</td>\n",
       "      <td>GTO</td>\n",
       "      <td>CCSFS SLC 40</td>\n",
       "      <td>None None</td>\n",
       "      <td>1.0</td>\n",
       "      <td>False</td>\n",
       "      <td>False</td>\n",
       "      <td>False</td>\n",
       "      <td>None</td>\n",
       "      <td>1.0</td>\n",
       "      <td>0.0</td>\n",
       "      <td>B1011</td>\n",
       "      <td>-80.577366</td>\n",
       "      <td>28.561857</td>\n",
       "    </tr>\n",
       "  </tbody>\n",
       "</table>\n",
       "</div>"
      ],
      "text/plain": [
       "   FlightNumber        Date BoosterVersion  PayloadMass Orbit    LaunchSite  \\\n",
       "0             1  2010-06-04       Falcon 9          NaN   LEO  CCSFS SLC 40   \n",
       "1             2  2012-05-22       Falcon 9        525.0   LEO  CCSFS SLC 40   \n",
       "2             3  2013-03-01       Falcon 9        677.0   ISS  CCSFS SLC 40   \n",
       "3             4  2013-09-29       Falcon 9        500.0    PO   VAFB SLC 4E   \n",
       "4             5  2013-12-03       Falcon 9       3170.0   GTO  CCSFS SLC 40   \n",
       "5             6  2014-01-06       Falcon 9       3325.0   GTO  CCSFS SLC 40   \n",
       "6             7  2014-04-18       Falcon 9       2296.0   ISS  CCSFS SLC 40   \n",
       "7             8  2014-07-14       Falcon 9       1316.0   LEO  CCSFS SLC 40   \n",
       "8             9  2014-08-05       Falcon 9       4535.0   GTO  CCSFS SLC 40   \n",
       "9            10  2014-09-07       Falcon 9       4428.0   GTO  CCSFS SLC 40   \n",
       "\n",
       "       Outcome  Flights GridFins Reused   Legs LandingPad  Block  ReusedCount  \\\n",
       "0    None None      1.0    False  False  False       None    1.0          0.0   \n",
       "1    None None      1.0    False  False  False       None    1.0          0.0   \n",
       "2    None None      1.0    False  False  False       None    1.0          0.0   \n",
       "3  False Ocean      1.0    False  False  False       None    1.0          0.0   \n",
       "4    None None      1.0    False  False  False       None    1.0          0.0   \n",
       "5    None None      1.0    False  False  False       None    1.0          0.0   \n",
       "6   True Ocean      1.0    False  False   True       None    1.0          0.0   \n",
       "7   True Ocean      1.0    False  False   True       None    1.0          0.0   \n",
       "8    None None      1.0    False  False  False       None    1.0          0.0   \n",
       "9    None None      1.0    False  False  False       None    1.0          0.0   \n",
       "\n",
       "  Serial   Longitude   Latitude  \n",
       "0  B0003  -80.577366  28.561857  \n",
       "1  B0005  -80.577366  28.561857  \n",
       "2  B0007  -80.577366  28.561857  \n",
       "3  B1003 -120.610829  34.632093  \n",
       "4  B1004  -80.577366  28.561857  \n",
       "5  B1005  -80.577366  28.561857  \n",
       "6  B1006  -80.577366  28.561857  \n",
       "7  B1007  -80.577366  28.561857  \n",
       "8  B1008  -80.577366  28.561857  \n",
       "9  B1011  -80.577366  28.561857  "
      ]
     },
     "execution_count": 4,
     "metadata": {},
     "output_type": "execute_result"
    }
   ],
   "source": [
    "falcon9_data.head(10)"
   ]
  },
  {
   "cell_type": "markdown",
   "id": "1c5acf3a",
   "metadata": {
    "papermill": {
     "duration": 0.067822,
     "end_time": "2021-10-19T16:35:57.998145",
     "exception": false,
     "start_time": "2021-10-19T16:35:57.930323",
     "status": "completed"
    },
    "tags": []
   },
   "source": [
    "## Dealing with missing values <a class=\"anchor\"  id=\"missing-data\"></a>\n",
    "We can see below that some of the rows are missing values in our dataset. As our dataset only contains 119 observations, we will avoid removing rows containing null data but rather fill the missing data using different techniques."
   ]
  },
  {
   "cell_type": "code",
   "execution_count": 5,
   "id": "1c4aaf91",
   "metadata": {
    "execution": {
     "iopub.execute_input": "2021-10-19T16:35:58.137054Z",
     "iopub.status.busy": "2021-10-19T16:35:58.136340Z",
     "iopub.status.idle": "2021-10-19T16:35:58.145980Z",
     "shell.execute_reply": "2021-10-19T16:35:58.146974Z",
     "shell.execute_reply.started": "2021-10-19T15:45:36.761398Z"
    },
    "papermill": {
     "duration": 0.080841,
     "end_time": "2021-10-19T16:35:58.147219",
     "exception": false,
     "start_time": "2021-10-19T16:35:58.066378",
     "status": "completed"
    },
    "tags": []
   },
   "outputs": [
    {
     "data": {
      "text/plain": [
       "FlightNumber       0\n",
       "Date               0\n",
       "BoosterVersion     0\n",
       "PayloadMass       13\n",
       "Orbit              1\n",
       "LaunchSite         0\n",
       "Outcome            0\n",
       "Flights            1\n",
       "GridFins           1\n",
       "Reused             1\n",
       "Legs               1\n",
       "LandingPad        27\n",
       "Block              1\n",
       "ReusedCount        1\n",
       "Serial             1\n",
       "Longitude          0\n",
       "Latitude           0\n",
       "dtype: int64"
      ]
     },
     "execution_count": 5,
     "metadata": {},
     "output_type": "execute_result"
    }
   ],
   "source": [
    "falcon9_data.isnull().sum()"
   ]
  },
  {
   "cell_type": "markdown",
   "id": "7c66de65",
   "metadata": {
    "papermill": {
     "duration": 0.068047,
     "end_time": "2021-10-19T16:35:58.285792",
     "exception": false,
     "start_time": "2021-10-19T16:35:58.217745",
     "status": "completed"
    },
    "tags": []
   },
   "source": [
    "We deal with the missing values in `PayloadMass` by replacing the null values with the median.\n",
    "\n",
    "Similarily, we deal with the missing values in `Orbit`by replacing the null values with the mode."
   ]
  },
  {
   "cell_type": "code",
   "execution_count": 6,
   "id": "dab3cc5f",
   "metadata": {
    "execution": {
     "iopub.execute_input": "2021-10-19T16:35:58.424762Z",
     "iopub.status.busy": "2021-10-19T16:35:58.424080Z",
     "iopub.status.idle": "2021-10-19T16:35:58.436977Z",
     "shell.execute_reply": "2021-10-19T16:35:58.437506Z",
     "shell.execute_reply.started": "2021-10-19T15:45:36.773261Z"
    },
    "papermill": {
     "duration": 0.084164,
     "end_time": "2021-10-19T16:35:58.437706",
     "exception": false,
     "start_time": "2021-10-19T16:35:58.353542",
     "status": "completed"
    },
    "tags": []
   },
   "outputs": [],
   "source": [
    "# Fill missing PayloadMass with median\n",
    "falcon9_data['PayloadMass'].fillna(falcon9_data['PayloadMass'].median(), inplace=True)\n",
    "\n",
    "# Fill missing PayloadMass with median\n",
    "falcon9_data['Orbit'].fillna(falcon9_data['Orbit'].mode().values[0], inplace=True)"
   ]
  },
  {
   "cell_type": "markdown",
   "id": "dc9bf864",
   "metadata": {
    "papermill": {
     "duration": 0.067288,
     "end_time": "2021-10-19T16:35:58.573123",
     "exception": false,
     "start_time": "2021-10-19T16:35:58.505835",
     "status": "completed"
    },
    "tags": []
   },
   "source": [
    "When it comes to `Flights`, we can retrieve the number of flights a particular rocket has done by using the `Serial` variable to count the number of flights of the corresponding rocket has made after the current observed `Date`. If there were no other flights of a rocket with the same serial number after the current observed date then `Flights` will be set to `1`."
   ]
  },
  {
   "cell_type": "code",
   "execution_count": 7,
   "id": "ab46ef54",
   "metadata": {
    "execution": {
     "iopub.execute_input": "2021-10-19T16:35:58.712038Z",
     "iopub.status.busy": "2021-10-19T16:35:58.711351Z",
     "iopub.status.idle": "2021-10-19T16:35:58.723838Z",
     "shell.execute_reply": "2021-10-19T16:35:58.724438Z",
     "shell.execute_reply.started": "2021-10-19T15:45:36.781792Z"
    },
    "papermill": {
     "duration": 0.084045,
     "end_time": "2021-10-19T16:35:58.724613",
     "exception": false,
     "start_time": "2021-10-19T16:35:58.640568",
     "status": "completed"
    },
    "tags": []
   },
   "outputs": [],
   "source": [
    "# Fill missing Flights\n",
    "falcon9_data.loc[falcon9_data['Flights'].isnull(), 'Flights'] = falcon9_data[falcon9_data['Flights'].isnull()]\\\n",
    "    .apply(lambda x: 1 + falcon9_data.loc[(falcon9_data['Serial'] == x['Serial']) & (falcon9_data['Date'] > x['Date'])].shape[0], axis=1)"
   ]
  },
  {
   "cell_type": "markdown",
   "id": "7ae5d171",
   "metadata": {
    "papermill": {
     "duration": 0.071817,
     "end_time": "2021-10-19T16:35:58.865787",
     "exception": false,
     "start_time": "2021-10-19T16:35:58.793970",
     "status": "completed"
    },
    "tags": []
   },
   "source": [
    "Certain variables such as `GridFins`, `Reused`, and `Legs` are of type boolean. We can then assume the missing values to be `False`. Similarily, we can assume the missing values in `ReusedCount` to be `0` when the corresponding `Reused` variable is set to `False` or also missing."
   ]
  },
  {
   "cell_type": "code",
   "execution_count": 8,
   "id": "f7a74835",
   "metadata": {
    "execution": {
     "iopub.execute_input": "2021-10-19T16:35:59.016936Z",
     "iopub.status.busy": "2021-10-19T16:35:59.016091Z",
     "iopub.status.idle": "2021-10-19T16:35:59.024113Z",
     "shell.execute_reply": "2021-10-19T16:35:59.024705Z",
     "shell.execute_reply.started": "2021-10-19T15:45:36.796985Z"
    },
    "papermill": {
     "duration": 0.086545,
     "end_time": "2021-10-19T16:35:59.024885",
     "exception": false,
     "start_time": "2021-10-19T16:35:58.938340",
     "status": "completed"
    },
    "tags": []
   },
   "outputs": [],
   "source": [
    "# Fill missing GridFins, Reused, and Legs with False\n",
    "falcon9_data['GridFins'].fillna(False, inplace=True)\n",
    "falcon9_data['Reused'].fillna(False, inplace=True)\n",
    "falcon9_data['Legs'].fillna(False, inplace=True)\n",
    "\n",
    "# Fill missing ReusedCount with 0\n",
    "falcon9_data['ReusedCount'].fillna(0, inplace=True)\n",
    "falcon9_data['Block'].fillna(0, inplace=True)"
   ]
  },
  {
   "cell_type": "markdown",
   "id": "a0bfd8e9",
   "metadata": {
    "papermill": {
     "duration": 0.069282,
     "end_time": "2021-10-19T16:35:59.165215",
     "exception": false,
     "start_time": "2021-10-19T16:35:59.095933",
     "status": "completed"
    },
    "tags": []
   },
   "source": [
    "At last, `Serial` contains the serial number of the rockets. If the `Serial` is not provided, we could set its missing values to `unknown`."
   ]
  },
  {
   "cell_type": "code",
   "execution_count": 9,
   "id": "26fe8079",
   "metadata": {
    "execution": {
     "iopub.execute_input": "2021-10-19T16:35:59.307900Z",
     "iopub.status.busy": "2021-10-19T16:35:59.307159Z",
     "iopub.status.idle": "2021-10-19T16:35:59.311329Z",
     "shell.execute_reply": "2021-10-19T16:35:59.311858Z",
     "shell.execute_reply.started": "2021-10-19T15:45:36.807317Z"
    },
    "papermill": {
     "duration": 0.076507,
     "end_time": "2021-10-19T16:35:59.312041",
     "exception": false,
     "start_time": "2021-10-19T16:35:59.235534",
     "status": "completed"
    },
    "tags": []
   },
   "outputs": [],
   "source": [
    "# Fill missing Serial with 'unknown'\n",
    "falcon9_data['Serial'].fillna('Unknown', inplace=True)"
   ]
  },
  {
   "cell_type": "markdown",
   "id": "849c531f",
   "metadata": {
    "papermill": {
     "duration": 0.069441,
     "end_time": "2021-10-19T16:35:59.450397",
     "exception": false,
     "start_time": "2021-10-19T16:35:59.380956",
     "status": "completed"
    },
    "tags": []
   },
   "source": [
    "At this point, only `LandingPad` contains missing values. However, the fact the missing values of this particular variable are meaningful as they imply there was not landing pad used during the launch.\n",
    "\n",
    "Before starting our EDA, we rename the values of the column `LandingPad` to make them more readable. We also replace the missing values with `NoLandingPad`."
   ]
  },
  {
   "cell_type": "code",
   "execution_count": 10,
   "id": "989617e8",
   "metadata": {
    "execution": {
     "iopub.execute_input": "2021-10-19T16:35:59.600905Z",
     "iopub.status.busy": "2021-10-19T16:35:59.600203Z",
     "iopub.status.idle": "2021-10-19T16:35:59.604733Z",
     "shell.execute_reply": "2021-10-19T16:35:59.605549Z",
     "shell.execute_reply.started": "2021-10-19T15:45:36.822411Z"
    },
    "papermill": {
     "duration": 0.084589,
     "end_time": "2021-10-19T16:35:59.605896",
     "exception": false,
     "start_time": "2021-10-19T16:35:59.521307",
     "status": "completed"
    },
    "tags": []
   },
   "outputs": [],
   "source": [
    "padno = 0\n",
    "for padid in falcon9_data[\"LandingPad\"].unique():\n",
    "    if padid is not None:\n",
    "        falcon9_data[\"LandingPad\"].replace(padid, f\"LandingPad_{padno}\", inplace=True)\n",
    "    else:\n",
    "        falcon9_data[\"LandingPad\"].fillna(\"NoLandingPad\", inplace=True)\n",
    "    padno += 1\n",
    "\n",
    "del padno"
   ]
  },
  {
   "cell_type": "markdown",
   "id": "34cc79af",
   "metadata": {
    "papermill": {
     "duration": 0.067771,
     "end_time": "2021-10-19T16:35:59.743341",
     "exception": false,
     "start_time": "2021-10-19T16:35:59.675570",
     "status": "completed"
    },
    "tags": []
   },
   "source": [
    "## Fixing data types\n",
    "We make sure each feature has the right data type"
   ]
  },
  {
   "cell_type": "code",
   "execution_count": 11,
   "id": "ac9107ca",
   "metadata": {
    "execution": {
     "iopub.execute_input": "2021-10-19T16:35:59.888060Z",
     "iopub.status.busy": "2021-10-19T16:35:59.881790Z",
     "iopub.status.idle": "2021-10-19T16:35:59.894655Z",
     "shell.execute_reply": "2021-10-19T16:35:59.895134Z",
     "shell.execute_reply.started": "2021-10-19T15:45:36.836005Z"
    },
    "papermill": {
     "duration": 0.084037,
     "end_time": "2021-10-19T16:35:59.895329",
     "exception": false,
     "start_time": "2021-10-19T16:35:59.811292",
     "status": "completed"
    },
    "tags": []
   },
   "outputs": [],
   "source": [
    "falcon9_data[\"Date\"] = pd.to_datetime(falcon9_data[\"Date\"])\n",
    "falcon9_data[\"Flights\"] = falcon9_data[\"Flights\"].astype(int)\n",
    "falcon9_data[\"GridFins\"] = falcon9_data[\"GridFins\"].astype(bool)\n",
    "falcon9_data[\"Reused\"] = falcon9_data[\"Reused\"].astype(bool)\n",
    "falcon9_data[\"Legs\"] = falcon9_data[\"Legs\"].astype(bool)\n",
    "falcon9_data[\"Block\"] = falcon9_data[\"Block\"].astype(int)\n",
    "falcon9_data[\"ReusedCount\"] = falcon9_data[\"ReusedCount\"].astype(int)"
   ]
  },
  {
   "cell_type": "markdown",
   "id": "e9ca2ee9",
   "metadata": {
    "papermill": {
     "duration": 0.06853,
     "end_time": "2021-10-19T16:36:00.032411",
     "exception": false,
     "start_time": "2021-10-19T16:35:59.963881",
     "status": "completed"
    },
    "tags": []
   },
   "source": [
    "## Save cleaned data\n",
    "At this stage, our data is clean. The numeric values (including `Date`) appears to be in the proper range and looking at the unique values of the categorical values, we did not identify any typos.\n",
    "\n",
    "We can then safely save the cleaned dataset to the disk."
   ]
  },
  {
   "cell_type": "code",
   "execution_count": 12,
   "id": "24dd2457",
   "metadata": {
    "execution": {
     "iopub.execute_input": "2021-10-19T16:36:00.171901Z",
     "iopub.status.busy": "2021-10-19T16:36:00.171236Z",
     "iopub.status.idle": "2021-10-19T16:36:00.175658Z",
     "shell.execute_reply": "2021-10-19T16:36:00.175115Z",
     "shell.execute_reply.started": "2021-10-19T15:45:36.852201Z"
    },
    "papermill": {
     "duration": 0.075216,
     "end_time": "2021-10-19T16:36:00.175816",
     "exception": false,
     "start_time": "2021-10-19T16:36:00.100600",
     "status": "completed"
    },
    "tags": []
   },
   "outputs": [],
   "source": [
    "# falcon9_data.to_pickle(\"falcon9_data_clean_v1.pkl\")"
   ]
  },
  {
   "cell_type": "markdown",
   "id": "06ceba70",
   "metadata": {
    "papermill": {
     "duration": 0.069489,
     "end_time": "2021-10-19T16:36:00.313023",
     "exception": false,
     "start_time": "2021-10-19T16:36:00.243534",
     "status": "completed"
    },
    "tags": []
   },
   "source": [
    "# Exploratory Data Analysis & Features Selection <a class=\"anchor\"  id=\"eda\"></a>"
   ]
  },
  {
   "cell_type": "code",
   "execution_count": 13,
   "id": "d5b9bdce",
   "metadata": {
    "execution": {
     "iopub.execute_input": "2021-10-19T16:36:00.454070Z",
     "iopub.status.busy": "2021-10-19T16:36:00.453381Z",
     "iopub.status.idle": "2021-10-19T16:36:00.458472Z",
     "shell.execute_reply": "2021-10-19T16:36:00.457937Z",
     "shell.execute_reply.started": "2021-10-19T15:45:36.860986Z"
    },
    "papermill": {
     "duration": 0.07586,
     "end_time": "2021-10-19T16:36:00.458615",
     "exception": false,
     "start_time": "2021-10-19T16:36:00.382755",
     "status": "completed"
    },
    "tags": []
   },
   "outputs": [],
   "source": [
    "# Make a copy\n",
    "df = falcon9_data.copy()"
   ]
  },
  {
   "cell_type": "code",
   "execution_count": 14,
   "id": "661a88b5",
   "metadata": {
    "execution": {
     "iopub.execute_input": "2021-10-19T16:36:00.600617Z",
     "iopub.status.busy": "2021-10-19T16:36:00.599955Z",
     "iopub.status.idle": "2021-10-19T16:36:00.606406Z",
     "shell.execute_reply": "2021-10-19T16:36:00.606967Z",
     "shell.execute_reply.started": "2021-10-19T15:45:36.875952Z"
    },
    "papermill": {
     "duration": 0.077416,
     "end_time": "2021-10-19T16:36:00.607150",
     "exception": false,
     "start_time": "2021-10-19T16:36:00.529734",
     "status": "completed"
    },
    "tags": []
   },
   "outputs": [
    {
     "data": {
      "text/plain": [
       "FlightNumber               int64\n",
       "Date              datetime64[ns]\n",
       "BoosterVersion            object\n",
       "PayloadMass              float64\n",
       "Orbit                     object\n",
       "LaunchSite                object\n",
       "Outcome                   object\n",
       "Flights                    int64\n",
       "GridFins                    bool\n",
       "Reused                      bool\n",
       "Legs                        bool\n",
       "LandingPad                object\n",
       "Block                      int64\n",
       "ReusedCount                int64\n",
       "Serial                    object\n",
       "Longitude                float64\n",
       "Latitude                 float64\n",
       "dtype: object"
      ]
     },
     "execution_count": 14,
     "metadata": {},
     "output_type": "execute_result"
    }
   ],
   "source": [
    "df.dtypes"
   ]
  },
  {
   "cell_type": "markdown",
   "id": "b8344543",
   "metadata": {
    "papermill": {
     "duration": 0.067926,
     "end_time": "2021-10-19T16:36:00.745164",
     "exception": false,
     "start_time": "2021-10-19T16:36:00.677238",
     "status": "completed"
    },
    "tags": []
   },
   "source": [
    "## Process Target Variable <a class=\"anchor\"  id=\"eda-target\"></a>"
   ]
  },
  {
   "cell_type": "markdown",
   "id": "edec1c76",
   "metadata": {
    "papermill": {
     "duration": 0.06769,
     "end_time": "2021-10-19T16:36:00.882536",
     "exception": false,
     "start_time": "2021-10-19T16:36:00.814846",
     "status": "completed"
    },
    "tags": []
   },
   "source": [
    "The variable `Outcome` is composed of two parts. First, we have a boolean value (True or False) or 'None' that indicates if the launch was successful or not. The second part indicates where the first stage landed. For example `True Ocean` means the mission outcome was successfully  landed to a specific region of the ocean while <code>False Ocean</code> means the mission outcome was unsuccessfully landed to a specific region of the ocean. `None ASDS` and `None None` these represent a failure to land.\n",
    "\n",
    "We can then split `Outcome` into two columns `LandingOutcome` and `landingRegion`. We will be using the `landingOutcome` column as our target."
   ]
  },
  {
   "cell_type": "code",
   "execution_count": 15,
   "id": "3fe58a96",
   "metadata": {
    "execution": {
     "iopub.execute_input": "2021-10-19T16:36:01.023108Z",
     "iopub.status.busy": "2021-10-19T16:36:01.022416Z",
     "iopub.status.idle": "2021-10-19T16:36:01.037026Z",
     "shell.execute_reply": "2021-10-19T16:36:01.037582Z",
     "shell.execute_reply.started": "2021-10-19T15:45:36.891694Z"
    },
    "papermill": {
     "duration": 0.087013,
     "end_time": "2021-10-19T16:36:01.037779",
     "exception": false,
     "start_time": "2021-10-19T16:36:00.950766",
     "status": "completed"
    },
    "tags": []
   },
   "outputs": [],
   "source": [
    "df[[\"LandingOutcome\", \"LandingRegion\"]] = df[\"Outcome\"].str.split(\" \", 1, expand=True)\n",
    "\n",
    "# We fill the null values in LandingPlace by 'Failed' signaling that the launch was a failure.\n",
    "# df[\"LandingRegion\"].replace(\"None\", \"Failed\", inplace=True)\n",
    "\n",
    "# Replace null values by False in LandingOutcome\n",
    "df[\"LandingOutcome\"].replace('None', 0, inplace=True)\n",
    "df[\"LandingOutcome\"].replace('False', 0, inplace=True)\n",
    "df[\"LandingOutcome\"].replace('True', 1, inplace=True)\n",
    "\n",
    "# While were are at it, we can set the successful launch to 1 and the unsuccessful to 0 from the boolean values\n",
    "df = df.astype({\"LandingOutcome\": int})"
   ]
  },
  {
   "cell_type": "code",
   "execution_count": 16,
   "id": "cb595f04",
   "metadata": {
    "execution": {
     "iopub.execute_input": "2021-10-19T16:36:01.181863Z",
     "iopub.status.busy": "2021-10-19T16:36:01.181159Z",
     "iopub.status.idle": "2021-10-19T16:36:01.186330Z",
     "shell.execute_reply": "2021-10-19T16:36:01.186877Z",
     "shell.execute_reply.started": "2021-10-19T15:45:36.911337Z"
    },
    "papermill": {
     "duration": 0.080089,
     "end_time": "2021-10-19T16:36:01.187056",
     "exception": false,
     "start_time": "2021-10-19T16:36:01.106967",
     "status": "completed"
    },
    "tags": []
   },
   "outputs": [],
   "source": [
    "# Drop old Outcome column\n",
    "df.drop(columns=[\"Outcome\"], axis=1, inplace=True)"
   ]
  },
  {
   "cell_type": "code",
   "execution_count": 17,
   "id": "4fe8aa42",
   "metadata": {
    "execution": {
     "iopub.execute_input": "2021-10-19T16:36:01.335025Z",
     "iopub.status.busy": "2021-10-19T16:36:01.334273Z",
     "iopub.status.idle": "2021-10-19T16:36:01.336782Z",
     "shell.execute_reply": "2021-10-19T16:36:01.337261Z",
     "shell.execute_reply.started": "2021-10-19T15:45:36.91906Z"
    },
    "papermill": {
     "duration": 0.079597,
     "end_time": "2021-10-19T16:36:01.337427",
     "exception": false,
     "start_time": "2021-10-19T16:36:01.257830",
     "status": "completed"
    },
    "tags": []
   },
   "outputs": [
    {
     "data": {
      "text/plain": [
       "1    73.11\n",
       "0    26.89\n",
       "Name: LandingOutcome, dtype: float64"
      ]
     },
     "execution_count": 17,
     "metadata": {},
     "output_type": "execute_result"
    }
   ],
   "source": [
    "round(100 * df[\"LandingOutcome\"].value_counts() / df.shape[0], 2)"
   ]
  },
  {
   "cell_type": "markdown",
   "id": "330ae6df",
   "metadata": {
    "papermill": {
     "duration": 0.071093,
     "end_time": "2021-10-19T16:36:01.478881",
     "exception": false,
     "start_time": "2021-10-19T16:36:01.407788",
     "status": "completed"
    },
    "tags": []
   },
   "source": [
    "Our two classes `0` (Failure) and `1` (Success) are considerably imbalanced. Out of every rocket launch in the dataset, 73.11% were successful whereas 26.89% were unsuccsessful."
   ]
  },
  {
   "cell_type": "markdown",
   "id": "afe8c511",
   "metadata": {
    "papermill": {
     "duration": 0.069281,
     "end_time": "2021-10-19T16:36:01.620077",
     "exception": false,
     "start_time": "2021-10-19T16:36:01.550796",
     "status": "completed"
    },
    "tags": []
   },
   "source": [
    "## Features Selection <a class=\"anchor\"  id=\"fs\"></a>"
   ]
  },
  {
   "cell_type": "markdown",
   "id": "c1f644bc",
   "metadata": {
    "papermill": {
     "duration": 0.068545,
     "end_time": "2021-10-19T16:36:01.759408",
     "exception": false,
     "start_time": "2021-10-19T16:36:01.690863",
     "status": "completed"
    },
    "tags": []
   },
   "source": [
    "### Helper functions"
   ]
  },
  {
   "cell_type": "code",
   "execution_count": 18,
   "id": "2c1b4f91",
   "metadata": {
    "execution": {
     "iopub.execute_input": "2021-10-19T16:36:01.902034Z",
     "iopub.status.busy": "2021-10-19T16:36:01.901393Z",
     "iopub.status.idle": "2021-10-19T16:36:01.905252Z",
     "shell.execute_reply": "2021-10-19T16:36:01.905854Z",
     "shell.execute_reply.started": "2021-10-19T15:45:36.934254Z"
    },
    "papermill": {
     "duration": 0.075557,
     "end_time": "2021-10-19T16:36:01.906028",
     "exception": false,
     "start_time": "2021-10-19T16:36:01.830471",
     "status": "completed"
    },
    "tags": []
   },
   "outputs": [],
   "source": [
    "from scipy.stats import chi2_contingency\n",
    "from scipy.stats import pearsonr"
   ]
  },
  {
   "cell_type": "code",
   "execution_count": 19,
   "id": "7fca24ae",
   "metadata": {
    "execution": {
     "iopub.execute_input": "2021-10-19T16:36:02.051879Z",
     "iopub.status.busy": "2021-10-19T16:36:02.051175Z",
     "iopub.status.idle": "2021-10-19T16:36:02.061552Z",
     "shell.execute_reply": "2021-10-19T16:36:02.062834Z",
     "shell.execute_reply.started": "2021-10-19T15:45:36.945616Z"
    },
    "papermill": {
     "duration": 0.088004,
     "end_time": "2021-10-19T16:36:02.063021",
     "exception": false,
     "start_time": "2021-10-19T16:36:01.975017",
     "status": "completed"
    },
    "tags": []
   },
   "outputs": [],
   "source": [
    "# Apply Chi Squared test then plot the p-values on a heatmap\n",
    "def plot_chisquare_heatmap(df, target, column_names, figsize=(8,6)):\n",
    "    column_names.append(target)\n",
    "    n_cols = len(column_names)\n",
    "    chisq_df = pd.DataFrame(np.zeros((n_cols,n_cols)), columns=column_names, index=column_names)\n",
    "    i = 0\n",
    "    j = 0\n",
    "    \n",
    "    for icol in column_names:\n",
    "        for jcol in column_names:\n",
    "            # Build contigency table\n",
    "            contigency_tab = pd.crosstab(df[icol], df[jcol])\n",
    "            \n",
    "            # Get p-value and other stats\n",
    "            c, p, dof, expected = chi2_contingency(contigency_tab)\n",
    "            \n",
    "            # We round very low p-values to 0 and add the p-values to the chisq_matrix\n",
    "            chisq_df.iloc[i,j] = round(p, 5)\n",
    "            \n",
    "            # A condition to use Chi Square is that the expected frequencies should be at \n",
    "            # least 5 for the majority (80%) of the cells\n",
    "            \n",
    "            # Get % of cells with frequency of at least 5\n",
    "            expected_percent = 100 * expected[expected >= 5].size / expected.size\n",
    "            \n",
    "            #if icol == jcol:\n",
    "            #    chisq_df.iloc[i,j] = 0.0\n",
    "            \n",
    "            # If the expected frequency is less than 5 for the (20%), we ignore the p-value\n",
    "            # between the two variables. We will then keep the two variables.\n",
    "            # We set the p-value to 2 in order to better visualize this case\n",
    "            if expected_percent < 20:\n",
    "                chisq_df.iloc[i,j] = 2\n",
    "            else:\n",
    "                chisq_df.iloc[i,j] = round(p, 5)\n",
    "            \n",
    "            j += 1\n",
    "            \n",
    "        i += 1\n",
    "        j = 0\n",
    "    \n",
    "    _, ax = plt.subplots(figsize=figsize)\n",
    "    sns.heatmap(chisq_df, annot=True, ax=ax)\n",
    "    #ax.set_xticklabels(labels=cols, rotation=90)\n",
    "    #ax.set_yticklabels(labels=cols, rotation=0)\n",
    "    ax.set_title(\"Chi Squared p-values\", fontsize=14)\n",
    "    plt.show()\n"
   ]
  },
  {
   "cell_type": "code",
   "execution_count": 20,
   "id": "5d04a8c7",
   "metadata": {
    "execution": {
     "iopub.execute_input": "2021-10-19T16:36:02.237735Z",
     "iopub.status.busy": "2021-10-19T16:36:02.236588Z",
     "iopub.status.idle": "2021-10-19T16:36:02.239057Z",
     "shell.execute_reply": "2021-10-19T16:36:02.239952Z",
     "shell.execute_reply.started": "2021-10-19T15:45:36.959825Z"
    },
    "papermill": {
     "duration": 0.107759,
     "end_time": "2021-10-19T16:36:02.240194",
     "exception": false,
     "start_time": "2021-10-19T16:36:02.132435",
     "status": "completed"
    },
    "tags": []
   },
   "outputs": [],
   "source": [
    "# Compute the correlation between variables and the statistical significance of that correlation\n",
    "# then plot the correlation coefficient and p-values on a heatmap\n",
    "def plot_corr_pvalue(df, column_names, figsize=(11, 4)):\n",
    "    ncols = len(column_names)\n",
    "    corr_matrix = pd.DataFrame(np.zeros((ncols, ncols)), columns=column_names, index=column_names)\n",
    "    pvalue_matrix = pd.DataFrame(np.zeros((ncols, ncols)), columns=column_names, index=column_names)\n",
    "    i = 0\n",
    "    j = 0\n",
    "    \n",
    "    for icol in column_names:\n",
    "        for jcol in column_names:\n",
    "            # Compute correlation coefficient and p-value\n",
    "            corr, p = pearsonr(df[icol], df[jcol])\n",
    "            \n",
    "            corr_matrix.iloc[i,j] = round(corr, 5)\n",
    "            \n",
    "            # We round very low p-values to 0\n",
    "            pvalue_matrix.iloc[i,j] = round(p, 5)\n",
    "            j += 1\n",
    "            \n",
    "        j = 0\n",
    "        i += 1\n",
    "    \n",
    "    _, ax = plt.subplots(figsize=figsize, ncols=2, nrows=1)\n",
    "    # Plot correlation matrix\n",
    "    sns.heatmap(corr_matrix, annot=True, ax=ax[0])\n",
    "    ax[0].set_title(\"Correlation Matrix\", fontsize=14)\n",
    "    ax[0].set_xticklabels(column_names, rotation=90)\n",
    "    ax[0].set_yticklabels(column_names, rotation=0)\n",
    "    \n",
    "    # Plot p-values matrix\n",
    "    sns.heatmap(pvalue_matrix, annot=True, ax=ax[1])\n",
    "    ax[1].set_title(\"p-values Matrix\", fontsize=14)\n",
    "    ax[1].set_xticklabels(column_names, rotation=90)\n",
    "    ax[1].set_yticklabels(column_names, rotation=0)\n",
    "    plt.show()\n"
   ]
  },
  {
   "cell_type": "code",
   "execution_count": 21,
   "id": "20e0fa9d",
   "metadata": {
    "execution": {
     "iopub.execute_input": "2021-10-19T16:36:02.397047Z",
     "iopub.status.busy": "2021-10-19T16:36:02.395957Z",
     "iopub.status.idle": "2021-10-19T16:36:02.398217Z",
     "shell.execute_reply": "2021-10-19T16:36:02.398740Z",
     "shell.execute_reply.started": "2021-10-19T15:45:36.975966Z"
    },
    "papermill": {
     "duration": 0.082924,
     "end_time": "2021-10-19T16:36:02.398930",
     "exception": false,
     "start_time": "2021-10-19T16:36:02.316006",
     "status": "completed"
    },
    "tags": []
   },
   "outputs": [],
   "source": [
    "def plot_barchart(df, columns, figsize=(18, 4)):\n",
    "    ncols = len(columns)\n",
    "    _, axes = plt.subplots(figsize=figsize, ncols=ncols, nrows=1)\n",
    "    for i in range(len(columns)):\n",
    "        axes[i].set_title(f\"Landing Success Rate\", fontsize=14)\n",
    "        sns.barplot(x=df.groupby(columns[i]).apply(lambda x: str(x.name)),\n",
    "                    y=\"LandingOutcome\",\n",
    "                    data=round(100 * df.groupby(columns[i]).mean(), 2), ax=axes[i])\n",
    "        axes[i].set_xlabel(columns[i])\n",
    "        axes[i].set_ylabel(\"Success Rate (%)\")\n",
    "        \n",
    "        if columns[i] == \"LandingPad\":\n",
    "            axes[i].set_xticklabels(axes[i].xaxis.get_ticklabels(), rotation=90)\n",
    "        \n",
    "    plt.show()"
   ]
  },
  {
   "cell_type": "code",
   "execution_count": 22,
   "id": "b67f69a8",
   "metadata": {
    "execution": {
     "iopub.execute_input": "2021-10-19T16:36:02.539966Z",
     "iopub.status.busy": "2021-10-19T16:36:02.539255Z",
     "iopub.status.idle": "2021-10-19T16:36:02.545752Z",
     "shell.execute_reply": "2021-10-19T16:36:02.546287Z",
     "shell.execute_reply.started": "2021-10-19T15:45:36.991428Z"
    },
    "papermill": {
     "duration": 0.078394,
     "end_time": "2021-10-19T16:36:02.546459",
     "exception": false,
     "start_time": "2021-10-19T16:36:02.468065",
     "status": "completed"
    },
    "tags": []
   },
   "outputs": [],
   "source": [
    "def plot_kde(df, column_names, target, ncols=2):\n",
    "    nrows = int(np.ceil(len(column_names) / ncols))\n",
    "    _, ax = plt.subplots(figsize=(5.5 * ncols * 1.1, 3 * nrows * 1.3), ncols=ncols, nrows=nrows)\n",
    "    for i in range(len(column_names)):\n",
    "        sns.kdeplot(data=df, x=column_names[i], hue=target, alpha=0.9, ax=ax[i//ncols][i%ncols])\n",
    "    plt.show()"
   ]
  },
  {
   "cell_type": "markdown",
   "id": "47d64274",
   "metadata": {
    "papermill": {
     "duration": 0.068124,
     "end_time": "2021-10-19T16:36:02.683148",
     "exception": false,
     "start_time": "2021-10-19T16:36:02.615024",
     "status": "completed"
    },
    "tags": []
   },
   "source": [
    "### Create New Variables and Drop Obsolete/Redundant Variables <a class=\"anchor\"  id=\"fs-drop-columns\"></a>\n",
    "Some of the variables of our datasets are redundant or not useful. First, `FlightNumber` is used as an ID for each of the flights. Therefore, it does not hold much values for our classification problem. Similarily, `BoosterVersion` only has one single possible values (Falcon 9). At last, `Longitude` and `Latitude` are coordonates of each `LauchSite`. The pair of geo coordinates could be substituted by the corresponding `LaunchSite`."
   ]
  },
  {
   "cell_type": "markdown",
   "id": "1037a5e2",
   "metadata": {
    "papermill": {
     "duration": 0.068479,
     "end_time": "2021-10-19T16:36:02.820239",
     "exception": false,
     "start_time": "2021-10-19T16:36:02.751760",
     "status": "completed"
    },
    "tags": []
   },
   "source": [
    "From the `Date` column, we can extract the `Year`."
   ]
  },
  {
   "cell_type": "code",
   "execution_count": 23,
   "id": "fedf1643",
   "metadata": {
    "execution": {
     "iopub.execute_input": "2021-10-19T16:36:02.961563Z",
     "iopub.status.busy": "2021-10-19T16:36:02.960923Z",
     "iopub.status.idle": "2021-10-19T16:36:02.966326Z",
     "shell.execute_reply": "2021-10-19T16:36:02.966915Z",
     "shell.execute_reply.started": "2021-10-19T15:45:37.00869Z"
    },
    "papermill": {
     "duration": 0.077144,
     "end_time": "2021-10-19T16:36:02.967096",
     "exception": false,
     "start_time": "2021-10-19T16:36:02.889952",
     "status": "completed"
    },
    "tags": []
   },
   "outputs": [],
   "source": [
    "df[\"Year\"] = df[\"Date\"].dt.year"
   ]
  },
  {
   "cell_type": "code",
   "execution_count": 24,
   "id": "e7abd361",
   "metadata": {
    "execution": {
     "iopub.execute_input": "2021-10-19T16:36:03.109330Z",
     "iopub.status.busy": "2021-10-19T16:36:03.108720Z",
     "iopub.status.idle": "2021-10-19T16:36:03.114141Z",
     "shell.execute_reply": "2021-10-19T16:36:03.114700Z",
     "shell.execute_reply.started": "2021-10-19T15:45:37.024677Z"
    },
    "papermill": {
     "duration": 0.077059,
     "end_time": "2021-10-19T16:36:03.114878",
     "exception": false,
     "start_time": "2021-10-19T16:36:03.037819",
     "status": "completed"
    },
    "tags": []
   },
   "outputs": [],
   "source": [
    "df.drop(columns=[\"Date\", \"FlightNumber\", \"BoosterVersion\", \"Longitude\", \"Latitude\"], inplace=True)"
   ]
  },
  {
   "cell_type": "markdown",
   "id": "34f0620e",
   "metadata": {
    "papermill": {
     "duration": 0.069573,
     "end_time": "2021-10-19T16:36:03.253440",
     "exception": false,
     "start_time": "2021-10-19T16:36:03.183867",
     "status": "completed"
    },
    "tags": []
   },
   "source": [
    "### Categorical Variables <a class=\"anchor\"  id=\"fs-categorical\"></a>"
   ]
  },
  {
   "cell_type": "markdown",
   "id": "463d5be3",
   "metadata": {
    "papermill": {
     "duration": 0.068742,
     "end_time": "2021-10-19T16:36:03.391574",
     "exception": false,
     "start_time": "2021-10-19T16:36:03.322832",
     "status": "completed"
    },
    "tags": []
   },
   "source": [
    "We start with the categorical features. As we are dealing with a classification problem with multiple categorical features, it appropriate to use the Chi Square method for feature selection. \n",
    "\n",
    "We use the function `plot_chisquare_heatmap` to produce a heatmap of p-values obtain by applying Chi Square on our categorical features and target. A p-value lower than 0.05 in this case indicate that there exists a relationship between two variables. Otherwise, the two variables are considered independent.\n",
    "\n",
    "One of the condition to use Chi Squared is that the expected frequencies should be at least 5 for the majority (80%) of the cells. When this condition is not satisfied, `plot_chisquare_heatmap` sets the p-value to `2` thus indicating that the two variables could be used."
   ]
  },
  {
   "cell_type": "code",
   "execution_count": 25,
   "id": "dd440155",
   "metadata": {
    "execution": {
     "iopub.execute_input": "2021-10-19T16:36:03.532062Z",
     "iopub.status.busy": "2021-10-19T16:36:03.531371Z",
     "iopub.status.idle": "2021-10-19T16:36:04.525369Z",
     "shell.execute_reply": "2021-10-19T16:36:04.524786Z",
     "shell.execute_reply.started": "2021-10-19T15:45:37.036735Z"
    },
    "papermill": {
     "duration": 1.065578,
     "end_time": "2021-10-19T16:36:04.525513",
     "exception": false,
     "start_time": "2021-10-19T16:36:03.459935",
     "status": "completed"
    },
    "tags": []
   },
   "outputs": [
    {
     "data": {
      "image/png": "[encoded data removed]",
      "text/plain": [
       "<Figure size 576x432 with 2 Axes>"
      ]
     },
     "metadata": {},
     "output_type": "display_data"
    }
   ],
   "source": [
    "# Group categorical features in a list\n",
    "categorical_cols = [\"Orbit\", \"LaunchSite\", \"LandingPad\", \"Serial\", \"LandingRegion\"]\n",
    "\n",
    "# Plot heatmap of p-values\n",
    "plot_chisquare_heatmap(df, column_names=categorical_cols, target=\"LandingOutcome\")"
   ]
  },
  {
   "cell_type": "markdown",
   "id": "8516f2e7",
   "metadata": {
    "papermill": {
     "duration": 0.083983,
     "end_time": "2021-10-19T16:36:04.700649",
     "exception": false,
     "start_time": "2021-10-19T16:36:04.616666",
     "status": "completed"
    },
    "tags": []
   },
   "source": [
    "From the above heatmap we see that `Serial` do not satisfy the condition of a Chi Square test. Moreover, `Serial` is a used to uniquely identify a given rocket. As our goal is to predict the success of any rocket launch based on certain features, this information could be irrelevant. We can then remove those three columns from our features set.\n",
    "\n",
    "Next, `Orbit` and `LaunchSite` have a p-value of 0.17 and 0.21 respectively when evaluated against the target. These two variables are also not independent from each other as shown in the Chi Squared p-values table.\n",
    "\n",
    "`LauchSite` also has a relationship with `LandingPad`. As the later has a stronger relationship with the target variable, we can drop `LaunchSite` from our features set.\n",
    "\n",
    "There appears to be a strong relationship between `LandingPad` and `LandingRegion`. As the two variables are not independent, we could drop one of them. \n",
    "\n",
    "Let's visualize how the launches success rate varies with different values of `LandingPad`, `LandingRegion`, and `Orbit`."
   ]
  },
  {
   "cell_type": "code",
   "execution_count": 26,
   "id": "58621755",
   "metadata": {
    "execution": {
     "iopub.execute_input": "2021-10-19T16:36:04.853470Z",
     "iopub.status.busy": "2021-10-19T16:36:04.852754Z",
     "iopub.status.idle": "2021-10-19T16:36:05.506497Z",
     "shell.execute_reply": "2021-10-19T16:36:05.505955Z",
     "shell.execute_reply.started": "2021-10-19T15:45:37.867535Z"
    },
    "papermill": {
     "duration": 0.731198,
     "end_time": "2021-10-19T16:36:05.506680",
     "exception": false,
     "start_time": "2021-10-19T16:36:04.775482",
     "status": "completed"
    },
    "tags": []
   },
   "outputs": [
    {
     "data": {
      "image/png": "[encoded data removed]",
      "text/plain": [
       "<Figure size 1296x288 with 3 Axes>"
      ]
     },
     "metadata": {},
     "output_type": "display_data"
    }
   ],
   "source": [
    "plot_barchart(df, columns=[\"Orbit\", \"LandingPad\", \"LandingRegion\"])"
   ]
  },
  {
   "cell_type": "markdown",
   "id": "cfcf0fda",
   "metadata": {
    "papermill": {
     "duration": 0.074028,
     "end_time": "2021-10-19T16:36:05.653987",
     "exception": false,
     "start_time": "2021-10-19T16:36:05.579959",
     "status": "completed"
    },
    "tags": []
   },
   "source": [
    "The bar charts above show some variations in the success rate of rocket landings with different variables. \n",
    "\n",
    "The lauches have a higher success rate when launched in certain `Orbit` than others. For example, ES-L1, GEO, HEO, and SSO have a 100% success rate while SO is at 0%.\n",
    "\n",
    "Similarily to `Orbit`, the different `LandingRegion` also lead to different success rates. RTLS has the highest success rate while landing on the Ocean is less efficient.\n",
    "\n",
    "On the other hand, there does  not appears to be much difference in the success rate of different `LandingPad`. Beside using `LandingPad_1` and no landing pad, all the other possibilities lead to similar success rates."
   ]
  },
  {
   "cell_type": "code",
   "execution_count": 27,
   "id": "048be645",
   "metadata": {
    "execution": {
     "iopub.execute_input": "2021-10-19T16:36:05.804137Z",
     "iopub.status.busy": "2021-10-19T16:36:05.803112Z",
     "iopub.status.idle": "2021-10-19T16:36:05.823810Z",
     "shell.execute_reply": "2021-10-19T16:36:05.824363Z",
     "shell.execute_reply.started": "2021-10-19T15:45:38.436235Z"
    },
    "papermill": {
     "duration": 0.096793,
     "end_time": "2021-10-19T16:36:05.824531",
     "exception": false,
     "start_time": "2021-10-19T16:36:05.727738",
     "status": "completed"
    },
    "tags": []
   },
   "outputs": [
    {
     "data": {
      "text/html": [
       "<div>\n",
       "<style scoped>\n",
       "    .dataframe tbody tr th:only-of-type {\n",
       "        vertical-align: middle;\n",
       "    }\n",
       "\n",
       "    .dataframe tbody tr th {\n",
       "        vertical-align: top;\n",
       "    }\n",
       "\n",
       "    .dataframe thead th {\n",
       "        text-align: right;\n",
       "    }\n",
       "</style>\n",
       "<table border=\"1\" class=\"dataframe\">\n",
       "  <thead>\n",
       "    <tr style=\"text-align: right;\">\n",
       "      <th>LandingRegion</th>\n",
       "      <th>ASDS</th>\n",
       "      <th>None</th>\n",
       "      <th>Ocean</th>\n",
       "      <th>RTLS</th>\n",
       "    </tr>\n",
       "    <tr>\n",
       "      <th>LandingPad</th>\n",
       "      <th></th>\n",
       "      <th></th>\n",
       "      <th></th>\n",
       "      <th></th>\n",
       "    </tr>\n",
       "  </thead>\n",
       "  <tbody>\n",
       "    <tr>\n",
       "      <th>LandingPad_1</th>\n",
       "      <td>2</td>\n",
       "      <td>0</td>\n",
       "      <td>0</td>\n",
       "      <td>0</td>\n",
       "    </tr>\n",
       "    <tr>\n",
       "      <th>LandingPad_2</th>\n",
       "      <td>49</td>\n",
       "      <td>0</td>\n",
       "      <td>0</td>\n",
       "      <td>0</td>\n",
       "    </tr>\n",
       "    <tr>\n",
       "      <th>LandingPad_3</th>\n",
       "      <td>0</td>\n",
       "      <td>0</td>\n",
       "      <td>0</td>\n",
       "      <td>15</td>\n",
       "    </tr>\n",
       "    <tr>\n",
       "      <th>LandingPad_4</th>\n",
       "      <td>22</td>\n",
       "      <td>0</td>\n",
       "      <td>0</td>\n",
       "      <td>0</td>\n",
       "    </tr>\n",
       "    <tr>\n",
       "      <th>LandingPad_5</th>\n",
       "      <td>0</td>\n",
       "      <td>0</td>\n",
       "      <td>0</td>\n",
       "      <td>3</td>\n",
       "    </tr>\n",
       "    <tr>\n",
       "      <th>LandingPad_6</th>\n",
       "      <td>1</td>\n",
       "      <td>0</td>\n",
       "      <td>0</td>\n",
       "      <td>0</td>\n",
       "    </tr>\n",
       "    <tr>\n",
       "      <th>NoLandingPad</th>\n",
       "      <td>0</td>\n",
       "      <td>20</td>\n",
       "      <td>7</td>\n",
       "      <td>0</td>\n",
       "    </tr>\n",
       "  </tbody>\n",
       "</table>\n",
       "</div>"
      ],
      "text/plain": [
       "LandingRegion  ASDS  None  Ocean  RTLS\n",
       "LandingPad                            \n",
       "LandingPad_1      2     0      0     0\n",
       "LandingPad_2     49     0      0     0\n",
       "LandingPad_3      0     0      0    15\n",
       "LandingPad_4     22     0      0     0\n",
       "LandingPad_5      0     0      0     3\n",
       "LandingPad_6      1     0      0     0\n",
       "NoLandingPad      0    20      7     0"
      ]
     },
     "execution_count": 27,
     "metadata": {},
     "output_type": "execute_result"
    }
   ],
   "source": [
    "pd.crosstab(df[\"LandingPad\"], df[\"LandingRegion\"])"
   ]
  },
  {
   "cell_type": "markdown",
   "id": "8a9d27e7",
   "metadata": {
    "papermill": {
     "duration": 0.074124,
     "end_time": "2021-10-19T16:36:05.972647",
     "exception": false,
     "start_time": "2021-10-19T16:36:05.898523",
     "status": "completed"
    },
    "tags": []
   },
   "source": [
    "As noted earlier in the Chi Squared p-values matrix, there seem to be a strong relationship between `LandingPad` and `LandingRegion`. The contigency table above shows that each landing pad is associated with only one single `LandingRegion`. Not using a landing pas (NoLandingPad) either lead to a failure to launch or a landing on the ocean. Considering this information additional information, we can discard `LandingPad` from the features set and only consider `LandingRegion`."
   ]
  },
  {
   "cell_type": "code",
   "execution_count": 28,
   "id": "2213f619",
   "metadata": {
    "execution": {
     "iopub.execute_input": "2021-10-19T16:36:06.125296Z",
     "iopub.status.busy": "2021-10-19T16:36:06.124293Z",
     "iopub.status.idle": "2021-10-19T16:36:06.129530Z",
     "shell.execute_reply": "2021-10-19T16:36:06.130154Z",
     "shell.execute_reply.started": "2021-10-19T15:45:38.459269Z"
    },
    "papermill": {
     "duration": 0.081474,
     "end_time": "2021-10-19T16:36:06.130332",
     "exception": false,
     "start_time": "2021-10-19T16:36:06.048858",
     "status": "completed"
    },
    "tags": []
   },
   "outputs": [],
   "source": [
    "df.drop(columns=[\"Serial\", \"LaunchSite\", \"LandingPad\"], inplace=True)"
   ]
  },
  {
   "cell_type": "markdown",
   "id": "aec93a8e",
   "metadata": {
    "papermill": {
     "duration": 0.071338,
     "end_time": "2021-10-19T16:36:06.273431",
     "exception": false,
     "start_time": "2021-10-19T16:36:06.202093",
     "status": "completed"
    },
    "tags": []
   },
   "source": [
    "### Boolean Variables <a class=\"anchor\"  id=\"fs-boolean\"></a>\n",
    "We have in total 3 variables of type Boolean: `GridFins`, `Reused`, and `Legs`. We can visualize the relationship between these variables and the target using a bar chart."
   ]
  },
  {
   "cell_type": "code",
   "execution_count": 29,
   "id": "01fdf488",
   "metadata": {
    "execution": {
     "iopub.execute_input": "2021-10-19T16:36:06.421335Z",
     "iopub.status.busy": "2021-10-19T16:36:06.420307Z",
     "iopub.status.idle": "2021-10-19T16:36:07.292562Z",
     "shell.execute_reply": "2021-10-19T16:36:07.292026Z",
     "shell.execute_reply.started": "2021-10-19T15:45:38.465394Z"
    },
    "papermill": {
     "duration": 0.947483,
     "end_time": "2021-10-19T16:36:07.292743",
     "exception": false,
     "start_time": "2021-10-19T16:36:06.345260",
     "status": "completed"
    },
    "tags": []
   },
   "outputs": [
    {
     "data": {
      "image/png": "[encoded data removed]",
      "text/plain": [
       "<Figure size 1044x360 with 4 Axes>"
      ]
     },
     "metadata": {},
     "output_type": "display_data"
    }
   ],
   "source": [
    "boolean_cols = [\"GridFins\", \"Legs\", \"Reused\"]\n",
    "# Plot correlation and p-values matrices\n",
    "plot_corr_pvalue(df, boolean_cols + [\"LandingOutcome\"], figsize=(14.5, 5))"
   ]
  },
  {
   "cell_type": "markdown",
   "id": "b83922fb",
   "metadata": {
    "papermill": {
     "duration": 0.074039,
     "end_time": "2021-10-19T16:36:07.442022",
     "exception": false,
     "start_time": "2021-10-19T16:36:07.367983",
     "status": "completed"
    },
    "tags": []
   },
   "source": [
    "Here, we can observe that all three of our boolean variables have a relationship with `LandingOutcome`. We use a correlation matrix have a better sense on the strengh of the relationships.\n",
    "\n",
    "The correlation matrix above shows that the variables `GridFins` and `Legs` are highly correlated (91%). As `Legs` shows the largest difference in the success rate and strongest correlation to `LandingOutcome`, we will ignore `GridFins`."
   ]
  },
  {
   "cell_type": "code",
   "execution_count": 30,
   "id": "ddfca9ca",
   "metadata": {
    "execution": {
     "iopub.execute_input": "2021-10-19T16:36:07.599454Z",
     "iopub.status.busy": "2021-10-19T16:36:07.598760Z",
     "iopub.status.idle": "2021-10-19T16:36:07.601250Z",
     "shell.execute_reply": "2021-10-19T16:36:07.601720Z",
     "shell.execute_reply.started": "2021-10-19T15:45:39.137592Z"
    },
    "papermill": {
     "duration": 0.084181,
     "end_time": "2021-10-19T16:36:07.601901",
     "exception": false,
     "start_time": "2021-10-19T16:36:07.517720",
     "status": "completed"
    },
    "tags": []
   },
   "outputs": [],
   "source": [
    "df.drop(columns=[\"GridFins\"], inplace=True)"
   ]
  },
  {
   "cell_type": "markdown",
   "id": "c8796c26",
   "metadata": {
    "papermill": {
     "duration": 0.074894,
     "end_time": "2021-10-19T16:36:07.752014",
     "exception": false,
     "start_time": "2021-10-19T16:36:07.677120",
     "status": "completed"
    },
    "tags": []
   },
   "source": [
    "The variable `Reused` has a weak correlation with the target. However, we can notice that `Reused` and `ReusedCount` are linked. As `ReusedCount` provides more information--and not just `True` or `False`--it could be a stronger feature. "
   ]
  },
  {
   "cell_type": "code",
   "execution_count": 31,
   "id": "1f6a5920",
   "metadata": {
    "execution": {
     "iopub.execute_input": "2021-10-19T16:36:07.922216Z",
     "iopub.status.busy": "2021-10-19T16:36:07.920574Z",
     "iopub.status.idle": "2021-10-19T16:36:08.302381Z",
     "shell.execute_reply": "2021-10-19T16:36:08.301792Z",
     "shell.execute_reply.started": "2021-10-19T15:45:39.144219Z"
    },
    "papermill": {
     "duration": 0.47705,
     "end_time": "2021-10-19T16:36:08.302519",
     "exception": false,
     "start_time": "2021-10-19T16:36:07.825469",
     "status": "completed"
    },
    "tags": []
   },
   "outputs": [
    {
     "data": {
      "image/png": "[encoded data removed]",
      "text/plain": [
       "<Figure size 864x288 with 2 Axes>"
      ]
     },
     "metadata": {},
     "output_type": "display_data"
    }
   ],
   "source": [
    "plot_barchart(df, columns=[\"Reused\", \"ReusedCount\"], figsize=(12, 4))"
   ]
  },
  {
   "cell_type": "markdown",
   "id": "db7da85e",
   "metadata": {
    "papermill": {
     "duration": 0.07527,
     "end_time": "2021-10-19T16:36:08.452958",
     "exception": false,
     "start_time": "2021-10-19T16:36:08.377688",
     "status": "completed"
    },
    "tags": []
   },
   "source": [
    "The bar plot above shows the success rate of the first stage landing based on how many time it has been reused. The difference in the success rate does not appear to be significant especially when we consider that when a rocket fail launch or land, it it destroyed. The first stage is only reusable until it is destroy. Our goal is to predict if the outcome of le landing will be positive thus indicating that the first stage could be reused in the futur. Therefore, we can drop both `Reused` and `ReusedCount` from the features set."
   ]
  },
  {
   "cell_type": "code",
   "execution_count": 32,
   "id": "89e8e4d3",
   "metadata": {
    "execution": {
     "iopub.execute_input": "2021-10-19T16:36:08.613548Z",
     "iopub.status.busy": "2021-10-19T16:36:08.612866Z",
     "iopub.status.idle": "2021-10-19T16:36:08.615806Z",
     "shell.execute_reply": "2021-10-19T16:36:08.615182Z",
     "shell.execute_reply.started": "2021-10-19T15:45:39.509455Z"
    },
    "papermill": {
     "duration": 0.084963,
     "end_time": "2021-10-19T16:36:08.615945",
     "exception": false,
     "start_time": "2021-10-19T16:36:08.530982",
     "status": "completed"
    },
    "tags": []
   },
   "outputs": [],
   "source": [
    "df.drop(columns=[\"Reused\", \"ReusedCount\"], inplace=True)"
   ]
  },
  {
   "cell_type": "markdown",
   "id": "36493e40",
   "metadata": {
    "papermill": {
     "duration": 0.074682,
     "end_time": "2021-10-19T16:36:08.766487",
     "exception": false,
     "start_time": "2021-10-19T16:36:08.691805",
     "status": "completed"
    },
    "tags": []
   },
   "source": [
    "### Numeric Variables <a class=\"anchor\"  id=\"fs-numeric\"></a>\n",
    "We are left with 4 numeric variables to consider: `PayloadMass`, `Flights`, `Block`, and `ReusedCount`."
   ]
  },
  {
   "cell_type": "code",
   "execution_count": 33,
   "id": "0fc7a8d5",
   "metadata": {
    "execution": {
     "iopub.execute_input": "2021-10-19T16:36:08.975847Z",
     "iopub.status.busy": "2021-10-19T16:36:08.974778Z",
     "iopub.status.idle": "2021-10-19T16:36:09.863596Z",
     "shell.execute_reply": "2021-10-19T16:36:09.864114Z",
     "shell.execute_reply.started": "2021-10-19T15:45:39.517198Z"
    },
    "papermill": {
     "duration": 1.022994,
     "end_time": "2021-10-19T16:36:09.864281",
     "exception": false,
     "start_time": "2021-10-19T16:36:08.841287",
     "status": "completed"
    },
    "tags": []
   },
   "outputs": [
    {
     "data": {
      "image/png": "[encoded data removed]",
      "text/plain": [
       "<Figure size 1188x374.4 with 4 Axes>"
      ]
     },
     "metadata": {},
     "output_type": "display_data"
    }
   ],
   "source": [
    "numeric_cols = [\"Year\", \"PayloadMass\", \"Flights\", \"Block\"]\n",
    "# Plot correlation and p-values matrices\n",
    "plot_corr_pvalue(df, numeric_cols + [\"LandingOutcome\"], figsize=(16.5, 5.2))"
   ]
  },
  {
   "cell_type": "code",
   "execution_count": 34,
   "id": "7cef1a8d",
   "metadata": {
    "execution": {
     "iopub.execute_input": "2021-10-19T16:36:10.026940Z",
     "iopub.status.busy": "2021-10-19T16:36:10.025704Z",
     "iopub.status.idle": "2021-10-19T16:36:11.164087Z",
     "shell.execute_reply": "2021-10-19T16:36:11.164739Z",
     "shell.execute_reply.started": "2021-10-19T15:45:40.332171Z"
    },
    "papermill": {
     "duration": 1.22224,
     "end_time": "2021-10-19T16:36:11.164924",
     "exception": false,
     "start_time": "2021-10-19T16:36:09.942684",
     "status": "completed"
    },
    "tags": []
   },
   "outputs": [
    {
     "data": {
      "image/png": "[encoded data removed]",
      "text/plain": [
       "<Figure size 871.2x561.6 with 4 Axes>"
      ]
     },
     "metadata": {},
     "output_type": "display_data"
    }
   ],
   "source": [
    "plot_kde(df, numeric_cols, target=\"LandingOutcome\", ncols=2)"
   ]
  },
  {
   "cell_type": "markdown",
   "id": "4f7dc443",
   "metadata": {
    "papermill": {
     "duration": 0.080459,
     "end_time": "2021-10-19T16:36:11.326686",
     "exception": false,
     "start_time": "2021-10-19T16:36:11.246227",
     "status": "completed"
    },
    "tags": []
   },
   "source": [
    "`Year` and `Block` are correlated to each other with a coefficient of 0.85. This suggests a colinearity between the two variables, thus we should drop one.\n",
    "\n",
    "Looking at the density plot above, we can see that the success rate of the first stage landings grows by the years. However, the year alone as a value would not have much impact on the success rate. We can assume that the higher success rate in the most recent years is due not by the year itself but rather some newer techniques or features added to the rockets and/or landing procedures. For this reason, `Block` would be a better feature to use in our classification problem.\n",
    "\n",
    "`PayloadMass` and `Flights` have the lowest correlation coefficients thus suggesting that they do not have a considerable influence on the `LandingOutcome`. The associated density plots also support this observation. We could remove these two `PayloadMass` and `Flights` from the features set."
   ]
  },
  {
   "cell_type": "markdown",
   "id": "cd67adbf",
   "metadata": {
    "papermill": {
     "duration": 0.079354,
     "end_time": "2021-10-19T16:36:11.485535",
     "exception": false,
     "start_time": "2021-10-19T16:36:11.406181",
     "status": "completed"
    },
    "tags": []
   },
   "source": [
    "#### Group PayloadMass\n",
    "\n",
    "Based on the informations found on [Wikipedia](https://en.wikipedia.org/wiki/Small-lift_launch_vehicle#See_also), we can group the `PayloadMass` into four groups: Small-Lift (less than 2,000), Medium-Lift (2,000-20,000), Heavy-Lift (20,000-50,000), and Super-Lift (over 50,000)."
   ]
  },
  {
   "cell_type": "code",
   "execution_count": 35,
   "id": "620ae93f",
   "metadata": {
    "execution": {
     "iopub.execute_input": "2021-10-19T16:36:11.652997Z",
     "iopub.status.busy": "2021-10-19T16:36:11.652256Z",
     "iopub.status.idle": "2021-10-19T16:36:11.658413Z",
     "shell.execute_reply": "2021-10-19T16:36:11.658979Z",
     "shell.execute_reply.started": "2021-10-19T15:45:41.461213Z"
    },
    "papermill": {
     "duration": 0.091056,
     "end_time": "2021-10-19T16:36:11.659152",
     "exception": false,
     "start_time": "2021-10-19T16:36:11.568096",
     "status": "completed"
    },
    "tags": []
   },
   "outputs": [],
   "source": [
    "def group_payloadmass(df):\n",
    "    df.loc[df[\"PayloadMass\"] < 2000, \"PayloadMass\"] = 0\n",
    "    df.loc[(2000 <= df[\"PayloadMass\"]) & (df[\"PayloadMass\"] < 20000), \"PayloadMass\"] = 1\n",
    "    df.loc[(20000 <= df[\"PayloadMass\"]) & (df[\"PayloadMass\"] < 50000), \"PayloadMass\"] = 2\n",
    "    df.loc[df[\"PayloadMass\"] > 50000, \"PayloadMass\"] = 2\n",
    "    df[\"PayloadMass\"].replace({0: \"Light\", 1: \"Medium\", 2: \"Heavy\", 3: \"Super-Heavy\"}, inplace=True)"
   ]
  },
  {
   "cell_type": "code",
   "execution_count": 36,
   "id": "2086ef1f",
   "metadata": {
    "execution": {
     "iopub.execute_input": "2021-10-19T16:36:11.822566Z",
     "iopub.status.busy": "2021-10-19T16:36:11.821934Z",
     "iopub.status.idle": "2021-10-19T16:36:12.135886Z",
     "shell.execute_reply": "2021-10-19T16:36:12.135144Z",
     "shell.execute_reply.started": "2021-10-19T15:45:41.468163Z"
    },
    "papermill": {
     "duration": 0.397044,
     "end_time": "2021-10-19T16:36:12.136037",
     "exception": false,
     "start_time": "2021-10-19T16:36:11.738993",
     "status": "completed"
    },
    "tags": []
   },
   "outputs": [
    {
     "name": "stdout",
     "output_type": "stream",
     "text": [
      "PayloadMass\n",
      "Light     61.54\n",
      "Medium    74.53\n",
      "Name: LandingOutcome, dtype: float64\n",
      "\n"
     ]
    },
    {
     "data": {
      "image/png": "[encoded data removed]",
      "text/plain": [
       "<Figure size 360x252 with 2 Axes>"
      ]
     },
     "metadata": {},
     "output_type": "display_data"
    }
   ],
   "source": [
    "# Group payload mass\n",
    "group_payloadmass(df)\n",
    "\n",
    "# Print success rate per payload group\n",
    "print(round(100 * df.groupby(\"PayloadMass\").mean()[\"LandingOutcome\"], 2))\n",
    "print()\n",
    "\n",
    "# Show Chi Square p-value matrix against target variable\n",
    "plot_chisquare_heatmap(df, column_names=[\"PayloadMass\"], target=\"LandingOutcome\", figsize=(5,3.5))"
   ]
  },
  {
   "cell_type": "markdown",
   "id": "0e6ec12c",
   "metadata": {
    "papermill": {
     "duration": 0.08249,
     "end_time": "2021-10-19T16:36:12.300100",
     "exception": false,
     "start_time": "2021-10-19T16:36:12.217610",
     "status": "completed"
    },
    "tags": []
   },
   "source": [
    "Even after grouping its values into different categories,`PayloadMass` is still independent from `LandingOutcome`."
   ]
  },
  {
   "cell_type": "code",
   "execution_count": 37,
   "id": "8f17c88b",
   "metadata": {
    "execution": {
     "iopub.execute_input": "2021-10-19T16:36:12.468614Z",
     "iopub.status.busy": "2021-10-19T16:36:12.467968Z",
     "iopub.status.idle": "2021-10-19T16:36:12.470256Z",
     "shell.execute_reply": "2021-10-19T16:36:12.470753Z",
     "shell.execute_reply.started": "2021-10-19T15:45:41.756354Z"
    },
    "papermill": {
     "duration": 0.090016,
     "end_time": "2021-10-19T16:36:12.470944",
     "exception": false,
     "start_time": "2021-10-19T16:36:12.380928",
     "status": "completed"
    },
    "tags": []
   },
   "outputs": [],
   "source": [
    "df.drop(columns=[\"PayloadMass\", \"Flights\", \"Year\"], inplace=True)"
   ]
  },
  {
   "cell_type": "markdown",
   "id": "3ac16c94",
   "metadata": {
    "papermill": {
     "duration": 0.082883,
     "end_time": "2021-10-19T16:36:12.635186",
     "exception": false,
     "start_time": "2021-10-19T16:36:12.552303",
     "status": "completed"
    },
    "tags": []
   },
   "source": [
    "## Build Features Set <a class=\"anchor\"  id=\"fs-build-dataset\"></a>\n",
    "At this stage, we are left with 5 variables in our features set. Each of these variables are statistically independent to each other and have a tangible relationship with the target."
   ]
  },
  {
   "cell_type": "code",
   "execution_count": 38,
   "id": "3bdeb40d",
   "metadata": {
    "execution": {
     "iopub.execute_input": "2021-10-19T16:36:12.804453Z",
     "iopub.status.busy": "2021-10-19T16:36:12.803731Z",
     "iopub.status.idle": "2021-10-19T16:36:12.808819Z",
     "shell.execute_reply": "2021-10-19T16:36:12.808201Z",
     "shell.execute_reply.started": "2021-10-19T15:45:41.763049Z"
    },
    "papermill": {
     "duration": 0.092223,
     "end_time": "2021-10-19T16:36:12.808987",
     "exception": false,
     "start_time": "2021-10-19T16:36:12.716764",
     "status": "completed"
    },
    "tags": []
   },
   "outputs": [
    {
     "data": {
      "text/plain": [
       "Index(['Orbit', 'Legs', 'Block', 'LandingOutcome', 'LandingRegion'], dtype='object')"
      ]
     },
     "execution_count": 38,
     "metadata": {},
     "output_type": "execute_result"
    }
   ],
   "source": [
    "df.columns"
   ]
  },
  {
   "cell_type": "code",
   "execution_count": 39,
   "id": "efaa4d8b",
   "metadata": {
    "execution": {
     "iopub.execute_input": "2021-10-19T16:36:12.979125Z",
     "iopub.status.busy": "2021-10-19T16:36:12.978109Z",
     "iopub.status.idle": "2021-10-19T16:36:12.982791Z",
     "shell.execute_reply": "2021-10-19T16:36:12.983263Z",
     "shell.execute_reply.started": "2021-10-19T15:45:41.777362Z"
    },
    "papermill": {
     "duration": 0.09132,
     "end_time": "2021-10-19T16:36:12.983440",
     "exception": false,
     "start_time": "2021-10-19T16:36:12.892120",
     "status": "completed"
    },
    "tags": []
   },
   "outputs": [],
   "source": [
    "def get_onehot(df, column):\n",
    "    # Apply one-hot encoding\n",
    "    df = df.join(pd.get_dummies(df[column], prefix=column))\n",
    "    # Drop old variable\n",
    "    return df.drop(columns=column)"
   ]
  },
  {
   "cell_type": "markdown",
   "id": "c0a82af3",
   "metadata": {
    "papermill": {
     "duration": 0.084815,
     "end_time": "2021-10-19T16:36:13.151697",
     "exception": false,
     "start_time": "2021-10-19T16:36:13.066882",
     "status": "completed"
    },
    "tags": []
   },
   "source": [
    "We now proceed at transforming this dataset into a appropriate feature set. First we transform the boolean variables to they contains 0 and 1 instead of True and False"
   ]
  },
  {
   "cell_type": "code",
   "execution_count": 40,
   "id": "2c2ec7d1",
   "metadata": {
    "execution": {
     "iopub.execute_input": "2021-10-19T16:36:13.338668Z",
     "iopub.status.busy": "2021-10-19T16:36:13.337985Z",
     "iopub.status.idle": "2021-10-19T16:36:13.343375Z",
     "shell.execute_reply": "2021-10-19T16:36:13.343990Z",
     "shell.execute_reply.started": "2021-10-19T15:45:41.787085Z"
    },
    "papermill": {
     "duration": 0.092336,
     "end_time": "2021-10-19T16:36:13.344161",
     "exception": false,
     "start_time": "2021-10-19T16:36:13.251825",
     "status": "completed"
    },
    "tags": []
   },
   "outputs": [],
   "source": [
    "df = df.astype({\"Legs\": int})"
   ]
  },
  {
   "cell_type": "markdown",
   "id": "95b7523e",
   "metadata": {
    "papermill": {
     "duration": 0.081133,
     "end_time": "2021-10-19T16:36:13.507304",
     "exception": false,
     "start_time": "2021-10-19T16:36:13.426171",
     "status": "completed"
    },
    "tags": []
   },
   "source": [
    "Considering that most machine learning algorithms require numeric values, we proceed to transforming our categorical features using a one-hot encoding."
   ]
  },
  {
   "cell_type": "code",
   "execution_count": 41,
   "id": "3c0cacc8",
   "metadata": {
    "execution": {
     "iopub.execute_input": "2021-10-19T16:36:13.676751Z",
     "iopub.status.busy": "2021-10-19T16:36:13.676032Z",
     "iopub.status.idle": "2021-10-19T16:36:13.690906Z",
     "shell.execute_reply": "2021-10-19T16:36:13.691455Z",
     "shell.execute_reply.started": "2021-10-19T15:45:41.801079Z"
    },
    "papermill": {
     "duration": 0.103103,
     "end_time": "2021-10-19T16:36:13.691651",
     "exception": false,
     "start_time": "2021-10-19T16:36:13.588548",
     "status": "completed"
    },
    "tags": []
   },
   "outputs": [],
   "source": [
    "df = get_onehot(df, column=[\"Orbit\"])\n",
    "df = get_onehot(df, column=[\"LandingRegion\"])"
   ]
  },
  {
   "cell_type": "code",
   "execution_count": 42,
   "id": "89a37446",
   "metadata": {
    "execution": {
     "iopub.execute_input": "2021-10-19T16:36:13.859583Z",
     "iopub.status.busy": "2021-10-19T16:36:13.858976Z",
     "iopub.status.idle": "2021-10-19T16:36:13.874038Z",
     "shell.execute_reply": "2021-10-19T16:36:13.874563Z",
     "shell.execute_reply.started": "2021-10-19T15:45:41.820302Z"
    },
    "papermill": {
     "duration": 0.101783,
     "end_time": "2021-10-19T16:36:13.874762",
     "exception": false,
     "start_time": "2021-10-19T16:36:13.772979",
     "status": "completed"
    },
    "tags": []
   },
   "outputs": [
    {
     "data": {
      "text/html": [
       "<div>\n",
       "<style scoped>\n",
       "    .dataframe tbody tr th:only-of-type {\n",
       "        vertical-align: middle;\n",
       "    }\n",
       "\n",
       "    .dataframe tbody tr th {\n",
       "        vertical-align: top;\n",
       "    }\n",
       "\n",
       "    .dataframe thead th {\n",
       "        text-align: right;\n",
       "    }\n",
       "</style>\n",
       "<table border=\"1\" class=\"dataframe\">\n",
       "  <thead>\n",
       "    <tr style=\"text-align: right;\">\n",
       "      <th></th>\n",
       "      <th>Legs</th>\n",
       "      <th>Block</th>\n",
       "      <th>LandingOutcome</th>\n",
       "      <th>Orbit_ES-L1</th>\n",
       "      <th>Orbit_GEO</th>\n",
       "      <th>Orbit_GTO</th>\n",
       "      <th>Orbit_HEO</th>\n",
       "      <th>Orbit_ISS</th>\n",
       "      <th>Orbit_LEO</th>\n",
       "      <th>Orbit_MEO</th>\n",
       "      <th>Orbit_PO</th>\n",
       "      <th>Orbit_SO</th>\n",
       "      <th>Orbit_SSO</th>\n",
       "      <th>Orbit_VLEO</th>\n",
       "      <th>LandingRegion_ASDS</th>\n",
       "      <th>LandingRegion_None</th>\n",
       "      <th>LandingRegion_Ocean</th>\n",
       "      <th>LandingRegion_RTLS</th>\n",
       "    </tr>\n",
       "  </thead>\n",
       "  <tbody>\n",
       "    <tr>\n",
       "      <th>0</th>\n",
       "      <td>0</td>\n",
       "      <td>1</td>\n",
       "      <td>0</td>\n",
       "      <td>0</td>\n",
       "      <td>0</td>\n",
       "      <td>0</td>\n",
       "      <td>0</td>\n",
       "      <td>0</td>\n",
       "      <td>1</td>\n",
       "      <td>0</td>\n",
       "      <td>0</td>\n",
       "      <td>0</td>\n",
       "      <td>0</td>\n",
       "      <td>0</td>\n",
       "      <td>0</td>\n",
       "      <td>1</td>\n",
       "      <td>0</td>\n",
       "      <td>0</td>\n",
       "    </tr>\n",
       "    <tr>\n",
       "      <th>1</th>\n",
       "      <td>0</td>\n",
       "      <td>1</td>\n",
       "      <td>0</td>\n",
       "      <td>0</td>\n",
       "      <td>0</td>\n",
       "      <td>0</td>\n",
       "      <td>0</td>\n",
       "      <td>0</td>\n",
       "      <td>1</td>\n",
       "      <td>0</td>\n",
       "      <td>0</td>\n",
       "      <td>0</td>\n",
       "      <td>0</td>\n",
       "      <td>0</td>\n",
       "      <td>0</td>\n",
       "      <td>1</td>\n",
       "      <td>0</td>\n",
       "      <td>0</td>\n",
       "    </tr>\n",
       "    <tr>\n",
       "      <th>2</th>\n",
       "      <td>0</td>\n",
       "      <td>1</td>\n",
       "      <td>0</td>\n",
       "      <td>0</td>\n",
       "      <td>0</td>\n",
       "      <td>0</td>\n",
       "      <td>0</td>\n",
       "      <td>1</td>\n",
       "      <td>0</td>\n",
       "      <td>0</td>\n",
       "      <td>0</td>\n",
       "      <td>0</td>\n",
       "      <td>0</td>\n",
       "      <td>0</td>\n",
       "      <td>0</td>\n",
       "      <td>1</td>\n",
       "      <td>0</td>\n",
       "      <td>0</td>\n",
       "    </tr>\n",
       "    <tr>\n",
       "      <th>3</th>\n",
       "      <td>0</td>\n",
       "      <td>1</td>\n",
       "      <td>0</td>\n",
       "      <td>0</td>\n",
       "      <td>0</td>\n",
       "      <td>0</td>\n",
       "      <td>0</td>\n",
       "      <td>0</td>\n",
       "      <td>0</td>\n",
       "      <td>0</td>\n",
       "      <td>1</td>\n",
       "      <td>0</td>\n",
       "      <td>0</td>\n",
       "      <td>0</td>\n",
       "      <td>0</td>\n",
       "      <td>0</td>\n",
       "      <td>1</td>\n",
       "      <td>0</td>\n",
       "    </tr>\n",
       "    <tr>\n",
       "      <th>4</th>\n",
       "      <td>0</td>\n",
       "      <td>1</td>\n",
       "      <td>0</td>\n",
       "      <td>0</td>\n",
       "      <td>0</td>\n",
       "      <td>1</td>\n",
       "      <td>0</td>\n",
       "      <td>0</td>\n",
       "      <td>0</td>\n",
       "      <td>0</td>\n",
       "      <td>0</td>\n",
       "      <td>0</td>\n",
       "      <td>0</td>\n",
       "      <td>0</td>\n",
       "      <td>0</td>\n",
       "      <td>1</td>\n",
       "      <td>0</td>\n",
       "      <td>0</td>\n",
       "    </tr>\n",
       "  </tbody>\n",
       "</table>\n",
       "</div>"
      ],
      "text/plain": [
       "   Legs  Block  LandingOutcome  Orbit_ES-L1  Orbit_GEO  Orbit_GTO  Orbit_HEO  \\\n",
       "0     0      1               0            0          0          0          0   \n",
       "1     0      1               0            0          0          0          0   \n",
       "2     0      1               0            0          0          0          0   \n",
       "3     0      1               0            0          0          0          0   \n",
       "4     0      1               0            0          0          1          0   \n",
       "\n",
       "   Orbit_ISS  Orbit_LEO  Orbit_MEO  Orbit_PO  Orbit_SO  Orbit_SSO  Orbit_VLEO  \\\n",
       "0          0          1          0         0         0          0           0   \n",
       "1          0          1          0         0         0          0           0   \n",
       "2          1          0          0         0         0          0           0   \n",
       "3          0          0          0         1         0          0           0   \n",
       "4          0          0          0         0         0          0           0   \n",
       "\n",
       "   LandingRegion_ASDS  LandingRegion_None  LandingRegion_Ocean  \\\n",
       "0                   0                   1                    0   \n",
       "1                   0                   1                    0   \n",
       "2                   0                   1                    0   \n",
       "3                   0                   0                    1   \n",
       "4                   0                   1                    0   \n",
       "\n",
       "   LandingRegion_RTLS  \n",
       "0                   0  \n",
       "1                   0  \n",
       "2                   0  \n",
       "3                   0  \n",
       "4                   0  "
      ]
     },
     "execution_count": 42,
     "metadata": {},
     "output_type": "execute_result"
    }
   ],
   "source": [
    "df.head()"
   ]
  },
  {
   "cell_type": "markdown",
   "id": "7b401273",
   "metadata": {
    "papermill": {
     "duration": 0.083892,
     "end_time": "2021-10-19T16:36:14.042507",
     "exception": false,
     "start_time": "2021-10-19T16:36:13.958615",
     "status": "completed"
    },
    "tags": []
   },
   "source": [
    "Our features sets are now ready to be fed to a machine learning model"
   ]
  },
  {
   "cell_type": "markdown",
   "id": "c876e5ed",
   "metadata": {
    "papermill": {
     "duration": 0.082133,
     "end_time": "2021-10-19T16:36:14.208398",
     "exception": false,
     "start_time": "2021-10-19T16:36:14.126265",
     "status": "completed"
    },
    "tags": []
   },
   "source": [
    "# Machine Learning Predictions <a class=\"anchor\"  id=\"ml-predictions\"></a>"
   ]
  },
  {
   "cell_type": "code",
   "execution_count": 43,
   "id": "8f91e371",
   "metadata": {
    "execution": {
     "iopub.execute_input": "2021-10-19T16:36:14.376211Z",
     "iopub.status.busy": "2021-10-19T16:36:14.375443Z",
     "iopub.status.idle": "2021-10-19T16:36:14.559920Z",
     "shell.execute_reply": "2021-10-19T16:36:14.559227Z",
     "shell.execute_reply.started": "2021-10-19T15:45:41.839343Z"
    },
    "papermill": {
     "duration": 0.269367,
     "end_time": "2021-10-19T16:36:14.560087",
     "exception": false,
     "start_time": "2021-10-19T16:36:14.290720",
     "status": "completed"
    },
    "tags": []
   },
   "outputs": [],
   "source": [
    "from sklearn.model_selection import train_test_split\n",
    "from sklearn.model_selection import GridSearchCV\n",
    "from sklearn.metrics import classification_report\n",
    "from sklearn.metrics import confusion_matrix"
   ]
  },
  {
   "cell_type": "code",
   "execution_count": 44,
   "id": "dae83483",
   "metadata": {
    "execution": {
     "iopub.execute_input": "2021-10-19T16:36:14.734734Z",
     "iopub.status.busy": "2021-10-19T16:36:14.733991Z",
     "iopub.status.idle": "2021-10-19T16:36:14.736028Z",
     "shell.execute_reply": "2021-10-19T16:36:14.736529Z",
     "shell.execute_reply.started": "2021-10-19T15:45:41.845812Z"
    },
    "papermill": {
     "duration": 0.093421,
     "end_time": "2021-10-19T16:36:14.736725",
     "exception": false,
     "start_time": "2021-10-19T16:36:14.643304",
     "status": "completed"
    },
    "tags": []
   },
   "outputs": [],
   "source": [
    "def plot_confusion_matrix(y=None,y_predict=None, cm=None):\n",
    "    if y is not None and y_predict is not None:\n",
    "        cm = confusion_matrix(y, y_predict, normalize='all')\n",
    "    elif cm is None:\n",
    "        raise Exception(\"Either confusion matrix or y and y_hat required\")\n",
    "    \n",
    "    _, ax = plt.subplots(figsize=(4.5,3.5))\n",
    "    sns.heatmap(cm, annot=True, ax = ax); #annot=True to annotate cells\n",
    "    ax.set_xlabel('Predicted labels')\n",
    "    ax.set_ylabel('True labels')\n",
    "    ax.set_title('Confusion Matrix', fontsize=14); \n",
    "    ax.xaxis.set_ticklabels(['did not land', 'land']);\n",
    "    ax.yaxis.set_ticklabels(['did not land', 'landed'])"
   ]
  },
  {
   "cell_type": "code",
   "execution_count": 45,
   "id": "bbdc21a3",
   "metadata": {
    "execution": {
     "iopub.execute_input": "2021-10-19T16:36:14.907450Z",
     "iopub.status.busy": "2021-10-19T16:36:14.906442Z",
     "iopub.status.idle": "2021-10-19T16:36:14.912096Z",
     "shell.execute_reply": "2021-10-19T16:36:14.912671Z",
     "shell.execute_reply.started": "2021-10-19T15:45:41.858418Z"
    },
    "papermill": {
     "duration": 0.093604,
     "end_time": "2021-10-19T16:36:14.912843",
     "exception": false,
     "start_time": "2021-10-19T16:36:14.819239",
     "status": "completed"
    },
    "tags": []
   },
   "outputs": [],
   "source": [
    "# Concatenate features and target sets\n",
    "data = np.column_stack((\n",
    "    df[[c for c in df.columns if c != \"LandingOutcome\"]].values, \n",
    "    df[\"LandingOutcome\"].values\n",
    "))"
   ]
  },
  {
   "cell_type": "code",
   "execution_count": 46,
   "id": "0f86a1d8",
   "metadata": {
    "execution": {
     "iopub.execute_input": "2021-10-19T16:36:15.084169Z",
     "iopub.status.busy": "2021-10-19T16:36:15.083129Z",
     "iopub.status.idle": "2021-10-19T16:36:15.086723Z",
     "shell.execute_reply": "2021-10-19T16:36:15.087337Z",
     "shell.execute_reply.started": "2021-10-19T15:45:41.876683Z"
    },
    "papermill": {
     "duration": 0.091262,
     "end_time": "2021-10-19T16:36:15.087515",
     "exception": false,
     "start_time": "2021-10-19T16:36:14.996253",
     "status": "completed"
    },
    "tags": []
   },
   "outputs": [],
   "source": [
    "# Split dataset into train and test sets\n",
    "# X_train, X_test, Y_train, Y_test = train_test_split(data[:, :-1], data[:,-1], test_size=0.2, shuffle=True, random_state=42)"
   ]
  },
  {
   "cell_type": "markdown",
   "id": "687618f4",
   "metadata": {
    "papermill": {
     "duration": 0.082133,
     "end_time": "2021-10-19T16:36:15.253278",
     "exception": false,
     "start_time": "2021-10-19T16:36:15.171145",
     "status": "completed"
    },
    "tags": []
   },
   "source": [
    "## Decision Tree <a class=\"anchor\"  id=\"ml-decision-tree\"></a>\n",
    "As noted earlier, the classes in our data are imbalanced. There are much more successful rocker launches than failures. Decision trees usually perform well on imbalanced data as the splitting rules can force both classes to be addressed."
   ]
  },
  {
   "cell_type": "code",
   "execution_count": 47,
   "id": "b1c57e39",
   "metadata": {
    "execution": {
     "iopub.execute_input": "2021-10-19T16:36:15.423952Z",
     "iopub.status.busy": "2021-10-19T16:36:15.422799Z",
     "iopub.status.idle": "2021-10-19T16:36:15.744121Z",
     "shell.execute_reply": "2021-10-19T16:36:15.744616Z",
     "shell.execute_reply.started": "2021-10-19T15:45:41.886443Z"
    },
    "papermill": {
     "duration": 0.408837,
     "end_time": "2021-10-19T16:36:15.744836",
     "exception": false,
     "start_time": "2021-10-19T16:36:15.335999",
     "status": "completed"
    },
    "tags": []
   },
   "outputs": [],
   "source": [
    "from sklearn.tree import DecisionTreeClassifier"
   ]
  },
  {
   "cell_type": "code",
   "execution_count": 48,
   "id": "9d2be05a",
   "metadata": {
    "execution": {
     "iopub.execute_input": "2021-10-19T16:36:15.918067Z",
     "iopub.status.busy": "2021-10-19T16:36:15.917362Z",
     "iopub.status.idle": "2021-10-19T16:36:15.920120Z",
     "shell.execute_reply": "2021-10-19T16:36:15.920748Z",
     "shell.execute_reply.started": "2021-10-19T15:45:41.901201Z"
    },
    "papermill": {
     "duration": 0.09305,
     "end_time": "2021-10-19T16:36:15.920916",
     "exception": false,
     "start_time": "2021-10-19T16:36:15.827866",
     "status": "completed"
    },
    "tags": []
   },
   "outputs": [],
   "source": [
    "parameters = {\n",
    "     'criterion': ['gini', 'entropy'],\n",
    "     'splitter': ['best', 'random'],\n",
    "     'max_depth': [2*n for n in range(1,10)],\n",
    "     'max_features': ['auto', 'sqrt'],\n",
    "     'min_samples_leaf': [1,2,4],\n",
    "     'min_samples_split': [2,3,4,10],\n",
    "     'class_weight': ['balanced', None]\n",
    "}"
   ]
  },
  {
   "cell_type": "code",
   "execution_count": 49,
   "id": "8a23da77",
   "metadata": {
    "execution": {
     "iopub.execute_input": "2021-10-19T16:36:16.092318Z",
     "iopub.status.busy": "2021-10-19T16:36:16.091557Z",
     "iopub.status.idle": "2021-10-19T16:36:35.849296Z",
     "shell.execute_reply": "2021-10-19T16:36:35.849806Z",
     "shell.execute_reply.started": "2021-10-19T15:45:41.91473Z"
    },
    "papermill": {
     "duration": 19.84578,
     "end_time": "2021-10-19T16:36:35.849997",
     "exception": false,
     "start_time": "2021-10-19T16:36:16.004217",
     "status": "completed"
    },
    "tags": []
   },
   "outputs": [
    {
     "data": {
      "text/plain": [
       "0.9153508771929825"
      ]
     },
     "execution_count": 49,
     "metadata": {},
     "output_type": "execute_result"
    }
   ],
   "source": [
    "tree_cv = GridSearchCV(DecisionTreeClassifier(random_state=42), param_grid=parameters, scoring=\"accuracy\", cv=6)\n",
    "tree_cv.fit(data[:, :-1], data[:, -1])\n",
    "tree_cv.best_score_"
   ]
  },
  {
   "cell_type": "code",
   "execution_count": 50,
   "id": "9977df1b",
   "metadata": {
    "execution": {
     "iopub.execute_input": "2021-10-19T16:36:36.023303Z",
     "iopub.status.busy": "2021-10-19T16:36:36.022551Z",
     "iopub.status.idle": "2021-10-19T16:36:36.027774Z",
     "shell.execute_reply": "2021-10-19T16:36:36.028351Z",
     "shell.execute_reply.started": "2021-10-19T15:45:57.935184Z"
    },
    "papermill": {
     "duration": 0.092339,
     "end_time": "2021-10-19T16:36:36.028528",
     "exception": false,
     "start_time": "2021-10-19T16:36:35.936189",
     "status": "completed"
    },
    "tags": []
   },
   "outputs": [
    {
     "data": {
      "text/plain": [
       "{'class_weight': None,\n",
       " 'criterion': 'gini',\n",
       " 'max_depth': 6,\n",
       " 'max_features': 'auto',\n",
       " 'min_samples_leaf': 2,\n",
       " 'min_samples_split': 10,\n",
       " 'splitter': 'best'}"
      ]
     },
     "execution_count": 50,
     "metadata": {},
     "output_type": "execute_result"
    }
   ],
   "source": [
    "tree_cv.best_params_"
   ]
  },
  {
   "cell_type": "markdown",
   "id": "8f1ff191",
   "metadata": {
    "papermill": {
     "duration": 0.099001,
     "end_time": "2021-10-19T16:36:36.226043",
     "exception": false,
     "start_time": "2021-10-19T16:36:36.127042",
     "status": "completed"
    },
    "tags": []
   },
   "source": [
    "Because we are dealing with a very small dataset that is also imbalanced, it would be a good idea to evaluate our models using a stratified cross validation."
   ]
  },
  {
   "cell_type": "code",
   "execution_count": 51,
   "id": "8dc57b56",
   "metadata": {
    "execution": {
     "iopub.execute_input": "2021-10-19T16:36:36.418275Z",
     "iopub.status.busy": "2021-10-19T16:36:36.417528Z",
     "iopub.status.idle": "2021-10-19T16:36:36.422788Z",
     "shell.execute_reply": "2021-10-19T16:36:36.423349Z",
     "shell.execute_reply.started": "2021-10-19T15:45:57.943586Z"
    },
    "papermill": {
     "duration": 0.102392,
     "end_time": "2021-10-19T16:36:36.423518",
     "exception": false,
     "start_time": "2021-10-19T16:36:36.321126",
     "status": "completed"
    },
    "tags": []
   },
   "outputs": [],
   "source": [
    "from sklearn.model_selection import RepeatedStratifiedKFold\n",
    "from sklearn.metrics import f1_score\n",
    "from sklearn.metrics import precision_score\n",
    "from sklearn.metrics import recall_score\n",
    "from sklearn.metrics import accuracy_score"
   ]
  },
  {
   "cell_type": "code",
   "execution_count": 52,
   "id": "8e4f5cd0",
   "metadata": {
    "execution": {
     "iopub.execute_input": "2021-10-19T16:36:36.598465Z",
     "iopub.status.busy": "2021-10-19T16:36:36.597590Z",
     "iopub.status.idle": "2021-10-19T16:36:36.701343Z",
     "shell.execute_reply": "2021-10-19T16:36:36.700301Z",
     "shell.execute_reply.started": "2021-10-19T15:45:57.955656Z"
    },
    "papermill": {
     "duration": 0.192502,
     "end_time": "2021-10-19T16:36:36.701556",
     "exception": false,
     "start_time": "2021-10-19T16:36:36.509054",
     "status": "completed"
    },
    "tags": []
   },
   "outputs": [
    {
     "name": "stdout",
     "output_type": "stream",
     "text": [
      "accuracy: 0.91 precision: 0.99 recall: 0.90 f1: 0.94\n"
     ]
    }
   ],
   "source": [
    "n_splits = 10\n",
    "n_repeats = 2\n",
    "# Matrix of scores: accuracy, precision, recall, and f1\n",
    "scores = np.zeros((n_splits * n_repeats, 4))\n",
    "# Combines the confusion matrices of each fold\n",
    "confusion_matrices = np.zeros((n_splits * n_repeats, 4))\n",
    "\n",
    "skfold = RepeatedStratifiedKFold(n_splits=n_splits, n_repeats=n_repeats, random_state=42)\n",
    "i = 0\n",
    "for train_idx, test_idx in skfold.split(data[:,:-1], data[:,-1]):\n",
    "    X_train, Y_train = data[train_idx, :-1], data[train_idx, -1]\n",
    "    X_test, Y_test = data[test_idx, :-1], data[test_idx, -1]\n",
    "    \n",
    "    # Train model\n",
    "    model = DecisionTreeClassifier(\n",
    "        class_weight=None,\n",
    "        criterion=\"gini\",\n",
    "        max_depth=6,\n",
    "        max_features=\"auto\",\n",
    "        min_samples_leaf=2,\n",
    "        min_samples_split=10,\n",
    "        splitter=\"best\",\n",
    "        random_state=42\n",
    "    )\n",
    "    \n",
    "    model.fit(X_train, Y_train)\n",
    "    \n",
    "    # Evaluate predictions\n",
    "    predictions = model.predict(X_test)\n",
    "    \n",
    "    # Record evaluation scores\n",
    "    scores[i][0] = accuracy_score(predictions, Y_test)\n",
    "    scores[i][1] = precision_score(predictions, Y_test)\n",
    "    scores[i][2] = recall_score(predictions, Y_test)\n",
    "    scores[i][3] = f1_score(predictions, Y_test)\n",
    "    \n",
    "    # Build a confusion matrix for each bootstrap iteration\n",
    "    cm = confusion_matrix(predictions, Y_test, normalize=\"true\")\n",
    "    confusion_matrices[i][0] = cm[0][0]\n",
    "    confusion_matrices[i][1] = cm[0][1]\n",
    "    confusion_matrices[i][2] = cm[1][0]\n",
    "    confusion_matrices[i][3] = cm[1][1]\n",
    "    \n",
    "    i += 1\n",
    "\n",
    "scores = np.mean(scores, axis=0)\n",
    "print(\"accuracy: %.2f precision: %.2f recall: %.2f f1: %.2f\" % (scores[0], scores[1], scores[2], scores[3]))"
   ]
  },
  {
   "cell_type": "code",
   "execution_count": 53,
   "id": "2300a73c",
   "metadata": {
    "execution": {
     "iopub.execute_input": "2021-10-19T16:36:36.880994Z",
     "iopub.status.busy": "2021-10-19T16:36:36.880127Z",
     "iopub.status.idle": "2021-10-19T16:36:37.153358Z",
     "shell.execute_reply": "2021-10-19T16:36:37.153877Z",
     "shell.execute_reply.started": "2021-10-19T15:45:58.037817Z"
    },
    "papermill": {
     "duration": 0.365174,
     "end_time": "2021-10-19T16:36:37.154050",
     "exception": false,
     "start_time": "2021-10-19T16:36:36.788876",
     "status": "completed"
    },
    "tags": []
   },
   "outputs": [
    {
     "data": {
      "image/png": "[encoded data removed]",
      "text/plain": [
       "<Figure size 324x252 with 2 Axes>"
      ]
     },
     "metadata": {},
     "output_type": "display_data"
    }
   ],
   "source": [
    "confusion_matrices = np.mean(confusion_matrices, axis=0)\n",
    "cm = np.reshape(confusion_matrices, (-1, 2))\n",
    "plot_confusion_matrix(cm=cm)"
   ]
  },
  {
   "cell_type": "markdown",
   "id": "1c9479df",
   "metadata": {
    "papermill": {
     "duration": 0.084053,
     "end_time": "2021-10-19T16:36:37.325417",
     "exception": false,
     "start_time": "2021-10-19T16:36:37.241364",
     "status": "completed"
    },
    "tags": []
   },
   "source": [
    "# Results <a class=\"anchor\"  id=\"ml-results\"></a>"
   ]
  },
  {
   "cell_type": "markdown",
   "id": "04f0eb1f",
   "metadata": {
    "papermill": {
     "duration": 0.085316,
     "end_time": "2021-10-19T16:36:37.496832",
     "exception": false,
     "start_time": "2021-10-19T16:36:37.411516",
     "status": "completed"
    },
    "tags": []
   },
   "source": [
    "Our decision tree model is able to reach satisfying performances. We obtain an accuracy of 91%, a precision of 99% and recall of 90%. The F1-score is at 94%. \n",
    "\n",
    "Based on the above confusion matrix, our model is slightly better at predicting if the first stage will land successfully."
   ]
  }
 ],
 "metadata": {
  "kernelspec": {
   "display_name": "Python 3",
   "language": "python",
   "name": "python3"
  },
  "language_info": {
   "codemirror_mode": {
    "name": "ipython",
    "version": 3
   },
   "file_extension": ".py",
   "mimetype": "text/x-python",
   "name": "python",
   "nbconvert_exporter": "python",
   "pygments_lexer": "ipython3",
   "version": "3.7.10"
  },
  "papermill": {
   "default_parameters": {},
   "duration": 69.015096,
   "end_time": "2021-10-19T16:36:38.925360",
   "environment_variables": {},
   "exception": null,
   "input_path": "__notebook__.ipynb",
   "output_path": "__notebook__.ipynb",
   "parameters": {},
   "start_time": "2021-10-19T16:35:29.910264",
   "version": "2.3.3"
  }
 },
 "nbformat": 4,
 "nbformat_minor": 5
}
